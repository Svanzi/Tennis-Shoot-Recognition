{
  "nbformat": 4,
  "nbformat_minor": 0,
  "metadata": {
    "colab": {
      "provenance": [],
      "authorship_tag": "ABX9TyPJBSOhPa1b7J1SiUUqztg0",
      "include_colab_link": true
    },
    "kernelspec": {
      "name": "python3",
      "display_name": "Python 3"
    },
    "language_info": {
      "name": "python"
    }
  },
  "cells": [
    {
      "cell_type": "markdown",
      "metadata": {
        "id": "view-in-github",
        "colab_type": "text"
      },
      "source": [
        "<a href=\"https://colab.research.google.com/github/Svanzi/Tennis-Shoot-Recognition/blob/main/Tennis%20Shot%20Recognition.ipynb\" target=\"_parent\"><img src=\"https://colab.research.google.com/assets/colab-badge.svg\" alt=\"Open In Colab\"/></a>"
      ]
    },
    {
      "cell_type": "code",
      "source": [
        "!git clone https://github.com/Svanzi/Tennis-Shoot-Recognition"
      ],
      "metadata": {
        "id": "OzzJbiIRQn3v",
        "outputId": "8768028f-41e1-4493-f1f0-0c7fb0632c57",
        "colab": {
          "base_uri": "https://localhost:8080/"
        }
      },
      "execution_count": null,
      "outputs": [
        {
          "output_type": "stream",
          "name": "stdout",
          "text": [
            "Cloning into 'Tennis-Shoot-Recognition'...\n",
            "remote: Enumerating objects: 3, done.\u001b[K\n",
            "remote: Counting objects: 100% (3/3), done.\u001b[K\n",
            "remote: Compressing objects: 100% (3/3), done.\u001b[K\n",
            "remote: Total 3 (delta 0), reused 0 (delta 0), pack-reused 0 (from 0)\u001b[K\n",
            "Receiving objects: 100% (3/3), 4.89 KiB | 4.89 MiB/s, done.\n"
          ]
        }
      ]
    },
    {
      "cell_type": "code",
      "execution_count": 1,
      "metadata": {
        "colab": {
          "base_uri": "https://localhost:8080/"
        },
        "id": "a47TA4FwnHIq",
        "outputId": "7be2decc-cfa1-4241-9ed5-1a19137554ea"
      },
      "outputs": [
        {
          "output_type": "stream",
          "name": "stdout",
          "text": [
            "Requirement already satisfied: mediapipe in /usr/local/lib/python3.12/dist-packages (0.10.21)\n",
            "Requirement already satisfied: absl-py in /usr/local/lib/python3.12/dist-packages (from mediapipe) (1.4.0)\n",
            "Requirement already satisfied: attrs>=19.1.0 in /usr/local/lib/python3.12/dist-packages (from mediapipe) (25.3.0)\n",
            "Requirement already satisfied: flatbuffers>=2.0 in /usr/local/lib/python3.12/dist-packages (from mediapipe) (25.2.10)\n",
            "Requirement already satisfied: jax in /usr/local/lib/python3.12/dist-packages (from mediapipe) (0.5.3)\n",
            "Requirement already satisfied: jaxlib in /usr/local/lib/python3.12/dist-packages (from mediapipe) (0.5.3)\n",
            "Requirement already satisfied: matplotlib in /usr/local/lib/python3.12/dist-packages (from mediapipe) (3.10.0)\n",
            "Requirement already satisfied: numpy<2 in /usr/local/lib/python3.12/dist-packages (from mediapipe) (1.26.4)\n",
            "Requirement already satisfied: opencv-contrib-python in /usr/local/lib/python3.12/dist-packages (from mediapipe) (4.11.0.86)\n",
            "Requirement already satisfied: protobuf<5,>=4.25.3 in /usr/local/lib/python3.12/dist-packages (from mediapipe) (4.25.8)\n",
            "Requirement already satisfied: sounddevice>=0.4.4 in /usr/local/lib/python3.12/dist-packages (from mediapipe) (0.5.2)\n",
            "Requirement already satisfied: sentencepiece in /usr/local/lib/python3.12/dist-packages (from mediapipe) (0.2.1)\n",
            "Requirement already satisfied: CFFI>=1.0 in /usr/local/lib/python3.12/dist-packages (from sounddevice>=0.4.4->mediapipe) (2.0.0)\n",
            "Requirement already satisfied: ml_dtypes>=0.4.0 in /usr/local/lib/python3.12/dist-packages (from jax->mediapipe) (0.5.3)\n",
            "Requirement already satisfied: opt_einsum in /usr/local/lib/python3.12/dist-packages (from jax->mediapipe) (3.4.0)\n",
            "Requirement already satisfied: scipy>=1.11.1 in /usr/local/lib/python3.12/dist-packages (from jax->mediapipe) (1.16.2)\n",
            "Requirement already satisfied: contourpy>=1.0.1 in /usr/local/lib/python3.12/dist-packages (from matplotlib->mediapipe) (1.3.3)\n",
            "Requirement already satisfied: cycler>=0.10 in /usr/local/lib/python3.12/dist-packages (from matplotlib->mediapipe) (0.12.1)\n",
            "Requirement already satisfied: fonttools>=4.22.0 in /usr/local/lib/python3.12/dist-packages (from matplotlib->mediapipe) (4.60.0)\n",
            "Requirement already satisfied: kiwisolver>=1.3.1 in /usr/local/lib/python3.12/dist-packages (from matplotlib->mediapipe) (1.4.9)\n",
            "Requirement already satisfied: packaging>=20.0 in /usr/local/lib/python3.12/dist-packages (from matplotlib->mediapipe) (25.0)\n",
            "Requirement already satisfied: pillow>=8 in /usr/local/lib/python3.12/dist-packages (from matplotlib->mediapipe) (11.3.0)\n",
            "Requirement already satisfied: pyparsing>=2.3.1 in /usr/local/lib/python3.12/dist-packages (from matplotlib->mediapipe) (3.2.4)\n",
            "Requirement already satisfied: python-dateutil>=2.7 in /usr/local/lib/python3.12/dist-packages (from matplotlib->mediapipe) (2.9.0.post0)\n",
            "Requirement already satisfied: pycparser in /usr/local/lib/python3.12/dist-packages (from CFFI>=1.0->sounddevice>=0.4.4->mediapipe) (2.23)\n",
            "Requirement already satisfied: six>=1.5 in /usr/local/lib/python3.12/dist-packages (from python-dateutil>=2.7->matplotlib->mediapipe) (1.17.0)\n",
            "Requirement already satisfied: tqdm in /usr/local/lib/python3.12/dist-packages (4.67.1)\n"
          ]
        }
      ],
      "source": [
        "!python -m pip install mediapipe\n",
        "!pip3 install tqdm"
      ]
    },
    {
      "cell_type": "code",
      "source": [
        "import mediapipe as mp\n",
        "from mediapipe.tasks import python\n",
        "from mediapipe.tasks.python import vision\n",
        "import cv2\n",
        "import csv\n",
        "from google.colab.patches import cv2_imshow\n",
        "from tqdm.notebook import tqdm\n",
        "from IPython.display import Video, display"
      ],
      "metadata": {
        "id": "QxATW-n-tHkm"
      },
      "execution_count": 2,
      "outputs": []
    },
    {
      "cell_type": "code",
      "source": [
        "from google.colab import drive\n",
        "drive.mount('/content/drive')"
      ],
      "metadata": {
        "colab": {
          "base_uri": "https://localhost:8080/"
        },
        "id": "97l6mFmBzajr",
        "outputId": "74f3c87e-a0d5-4441-9d41-f05aadfc4f98"
      },
      "execution_count": 3,
      "outputs": [
        {
          "output_type": "stream",
          "name": "stdout",
          "text": [
            "Mounted at /content/drive\n"
          ]
        }
      ]
    },
    {
      "cell_type": "code",
      "source": [
        "def write_landmarks_to_csv(landmarks, frame_number, csv_data):\n",
        "    print(f\"Landmark coordinates for frame {frame_number}:\")\n",
        "    for idx, landmark in enumerate(landmarks):\n",
        "        print(f\"{mp_pose.PoseLandmark(idx).name}: (x: {landmark.x}, y: {landmark.y}, z: {landmark.z})\")\n",
        "        csv_data.append([frame_number, mp_pose.PoseLandmark(idx).name, landmark.x, landmark.y, landmark.z])\n",
        "    print(\"\\n\")"
      ],
      "metadata": {
        "id": "Ro_q21Fd3uWt"
      },
      "execution_count": 4,
      "outputs": []
    },
    {
      "cell_type": "markdown",
      "source": [
        "### Input & Output Paths\n"
      ],
      "metadata": {
        "id": "pNyURqMK_gTm"
      }
    },
    {
      "cell_type": "code",
      "source": [
        "in_path = '/content/drive/MyDrive/University/Deep/Sinner_2min.mp4'\n",
        "out_path = '/content/drive/MyDrive/University/Deep/Sinner_2min_annoted.mp4'\n",
        "csv_path = '/content/drive/MyDrive/University/Deep/Sinner_2min_landmarks.csv'"
      ],
      "metadata": {
        "id": "1OTVBUnk342L"
      },
      "execution_count": 5,
      "outputs": []
    },
    {
      "cell_type": "markdown",
      "source": [
        "### MediaPipe Setup"
      ],
      "metadata": {
        "id": "GDsTVB5l_-IP"
      }
    },
    {
      "cell_type": "code",
      "source": [
        "# Initialize MediaPipe Pose and Drawing utilities\n",
        "mp_pose = mp.solutions.pose\n",
        "mp_drawing = mp.solutions.drawing_utils"
      ],
      "metadata": {
        "id": "vKn2R24832tU"
      },
      "execution_count": 6,
      "outputs": []
    },
    {
      "cell_type": "markdown",
      "source": [
        "### Video Capture\n"
      ],
      "metadata": {
        "id": "F7x_sMUrAHlE"
      }
    },
    {
      "cell_type": "code",
      "source": [
        "# Open the video file\n",
        "cap = cv2.VideoCapture(in_path)\n",
        "if not cap.isOpened():\n",
        "    print(f\"Error opening video file: {in_path}\")\n",
        "\n",
        "fps = cap.get(cv2.CAP_PROP_FPS) or 30.0\n",
        "w = int(cap.get(cv2.CAP_PROP_FRAME_WIDTH))\n",
        "h = int(cap.get(cv2.CAP_PROP_FRAME_HEIGHT))"
      ],
      "metadata": {
        "id": "ZrcmY4tPAKBq"
      },
      "execution_count": 15,
      "outputs": []
    },
    {
      "cell_type": "markdown",
      "source": [
        "### Video Writer\n"
      ],
      "metadata": {
        "id": "MdhxQT4iAur2"
      }
    },
    {
      "cell_type": "code",
      "source": [
        "fourcc = cv2.VideoWriter_fourcc(*'mp4v')\n",
        "writer = cv2.VideoWriter(out_path, fourcc, fps, (w, h))\n",
        "if not writer.isOpened():\n",
        "    print(f\"Error opening video writer: {out_path}\")"
      ],
      "metadata": {
        "id": "P4fYG4cGAx3n"
      },
      "execution_count": 16,
      "outputs": []
    },
    {
      "cell_type": "markdown",
      "source": [
        "### CSV\n"
      ],
      "metadata": {
        "id": "8F7PcDQOBNBQ"
      }
    },
    {
      "cell_type": "code",
      "source": [
        "write_csv = True\n",
        "if write_csv:\n",
        "    csv_file = open(csv_path, \"w\", newline=\"\")\n",
        "    csv_writer = csv.writer(csv_file)\n",
        "    csv_writer.writerow([\"frame\", \"landmark\", \"x\", \"y\", \"z\", \"visibility\"])"
      ],
      "metadata": {
        "id": "utwAxJlyBOtV"
      },
      "execution_count": 9,
      "outputs": []
    },
    {
      "cell_type": "code",
      "source": [
        "def dump_landmarks_to_csv(landmarks, frame_idx):\n",
        "    if not write_csv:\n",
        "        return\n",
        "    # MediaPipe Pose ha 33 landmark\n",
        "    for i, lm in enumerate(landmarks):\n",
        "        csv_writer.writerow([frame_idx, i, lm.x, lm.y, lm.z, lm.visibility])"
      ],
      "metadata": {
        "id": "Su6kI8FgBfDn"
      },
      "execution_count": 10,
      "outputs": []
    },
    {
      "cell_type": "markdown",
      "source": [
        "### Video Processing"
      ],
      "metadata": {
        "id": "Z2w0RS6qBsOD"
      }
    },
    {
      "cell_type": "markdown",
      "source": [
        "Filtraggio dei landmarks interessati, quelli che non riguardano informazioni sul viso."
      ],
      "metadata": {
        "id": "b88DM723FlIZ"
      }
    },
    {
      "cell_type": "code",
      "source": [
        "from mediapipe.python.solutions.pose import PoseLandmark\n",
        "\n",
        "# ---- indici dei landmark corpo (senza viso) ----\n",
        "BODY_LANDMARKS = [\n",
        "    PoseLandmark.LEFT_SHOULDER, PoseLandmark.RIGHT_SHOULDER,\n",
        "    PoseLandmark.LEFT_ELBOW,    PoseLandmark.RIGHT_ELBOW,\n",
        "    PoseLandmark.LEFT_WRIST,    PoseLandmark.RIGHT_WRIST,\n",
        "    PoseLandmark.LEFT_HIP,      PoseLandmark.RIGHT_HIP,\n",
        "    PoseLandmark.LEFT_KNEE,     PoseLandmark.RIGHT_KNEE,\n",
        "    PoseLandmark.LEFT_ANKLE,    PoseLandmark.RIGHT_ANKLE,\n",
        "    PoseLandmark.LEFT_HEEL,     PoseLandmark.RIGHT_HEEL,\n",
        "    PoseLandmark.LEFT_FOOT_INDEX, PoseLandmark.RIGHT_FOOT_INDEX,\n",
        "]\n",
        "BODY_IDX = [lm.value for lm in BODY_LANDMARKS]\n",
        "\n",
        "# ---- connessioni solo corpo (niente viso) ----\n",
        "BODY_CONNECTIONS = [\n",
        "    # Torso / spalle / anche\n",
        "    (PoseLandmark.LEFT_SHOULDER,  PoseLandmark.RIGHT_SHOULDER,  (0, 255, 0)),\n",
        "    (PoseLandmark.LEFT_SHOULDER,  PoseLandmark.LEFT_HIP,        (0, 255, 0)),\n",
        "    (PoseLandmark.RIGHT_SHOULDER, PoseLandmark.RIGHT_HIP,       (0, 255, 0)),\n",
        "    (PoseLandmark.LEFT_HIP,       PoseLandmark.RIGHT_HIP,       (0, 255, 0)),\n",
        "\n",
        "    # Braccio sinistro\n",
        "    (PoseLandmark.LEFT_SHOULDER, PoseLandmark.LEFT_ELBOW, (0, 255, 0)),\n",
        "    (PoseLandmark.LEFT_ELBOW,    PoseLandmark.LEFT_WRIST, (0, 255, 0)),\n",
        "\n",
        "    # Braccio destro\n",
        "    (PoseLandmark.RIGHT_SHOULDER, PoseLandmark.RIGHT_ELBOW, (0, 255, 0)),\n",
        "    (PoseLandmark.RIGHT_ELBOW,    PoseLandmark.RIGHT_WRIST, (0, 255, 0)),\n",
        "\n",
        "    # Gamba sinistra\n",
        "    (PoseLandmark.LEFT_HIP,   PoseLandmark.LEFT_KNEE,       (0, 255, 0)),\n",
        "    (PoseLandmark.LEFT_KNEE,  PoseLandmark.LEFT_ANKLE,      (0, 255, 0)),\n",
        "    (PoseLandmark.LEFT_ANKLE, PoseLandmark.LEFT_HEEL,       (0, 255, 0)),\n",
        "    (PoseLandmark.LEFT_HEEL,  PoseLandmark.LEFT_FOOT_INDEX, (0, 255, 0)),\n",
        "\n",
        "    # Gamba destra\n",
        "    (PoseLandmark.RIGHT_HIP,   PoseLandmark.RIGHT_KNEE,       (0, 255, 0)),\n",
        "    (PoseLandmark.RIGHT_KNEE,  PoseLandmark.RIGHT_ANKLE,      (0, 255, 0)),\n",
        "    (PoseLandmark.RIGHT_ANKLE, PoseLandmark.RIGHT_HEEL,       (0, 255, 0)),\n",
        "    (PoseLandmark.RIGHT_HEEL,  PoseLandmark.RIGHT_FOOT_INDEX, (0, 255, 0)),\n",
        "]"
      ],
      "metadata": {
        "id": "lsSa1hr4FkBk"
      },
      "execution_count": 11,
      "outputs": []
    },
    {
      "cell_type": "code",
      "source": [
        "def draw_body_only(frame, landmarks, img_w, img_h, visibility_thr=0.5):\n",
        "    \"\"\"Disegna solo i landmark e le connessioni 'corpo' con OpenCV.\"\"\"\n",
        "    # punti\n",
        "    for idx in BODY_IDX:\n",
        "        lm = landmarks[idx]\n",
        "        if getattr(lm, \"visibility\", 1.0) < visibility_thr:\n",
        "            continue\n",
        "        x, y = int(lm.x * img_w), int(lm.y * img_h)\n",
        "        if 0 <= x < img_w and 0 <= y < img_h:\n",
        "            cv2.circle(frame, (x, y), 3, (0, 255, 0), -1)\n",
        "\n",
        "    # linee\n",
        "    for a, b, c in BODY_CONNECTIONS:\n",
        "        la, lb = landmarks[a.value], landmarks[b.value]\n",
        "        if getattr(la, \"visibility\", 1.0) < visibility_thr:\n",
        "            continue\n",
        "        if getattr(lb, \"visibility\", 1.0) < visibility_thr:\n",
        "            continue\n",
        "        ax, ay = int(la.x * img_w), int(la.y * img_h)\n",
        "        bx, by = int(lb.x * img_w), int(lb.y * img_h)\n",
        "        if (0 <= ax < img_w and 0 <= ay < img_h and\n",
        "            0 <= bx < img_w and 0 <= by < img_h):\n",
        "            cv2.line(frame, (ax, ay), (bx, by), c, 2)"
      ],
      "metadata": {
        "id": "__mSBZSPz4Qj"
      },
      "execution_count": 12,
      "outputs": []
    },
    {
      "cell_type": "code",
      "source": [
        "def dump_body_to_csv(landmarks, frame_idx, csv_writer):\n",
        "    \"\"\"Scrive solo i landmark corpo nel CSV.\"\"\"\n",
        "    for idx in BODY_IDX:\n",
        "        lm = landmarks[idx]\n",
        "        csv_writer.writerow([frame_idx, idx, lm.x, lm.y, lm.z, getattr(lm, \"visibility\", 1.0)])"
      ],
      "metadata": {
        "id": "d8R-t_yLz6ka"
      },
      "execution_count": 13,
      "outputs": []
    },
    {
      "cell_type": "code",
      "source": [
        "from tqdm import tqdm\n",
        "\n",
        "total_frames = int(cap.get(cv2.CAP_PROP_FRAME_COUNT))\n",
        "frame_idx = 0\n",
        "w = int(cap.get(cv2.CAP_PROP_FRAME_WIDTH))\n",
        "h = int(cap.get(cv2.CAP_PROP_FRAME_HEIGHT))\n",
        "\n",
        "with mp_pose.Pose(static_image_mode=False, model_complexity=1) as pose:\n",
        "    with tqdm(total=total_frames, desc=\"Video elaboration\", unit=\"frame\") as pbar:\n",
        "        while True:\n",
        "            ret, frame = cap.read()\n",
        "            if not ret:\n",
        "                break\n",
        "\n",
        "            rgb = cv2.cvtColor(frame, cv2.COLOR_BGR2RGB)\n",
        "            result = pose.process(rgb)\n",
        "\n",
        "            if result.pose_landmarks:\n",
        "                lms = result.pose_landmarks.landmark\n",
        "\n",
        "                # Disegna SOLO corpo\n",
        "                draw_body_only(frame, lms, w, h, visibility_thr=0.5)\n",
        "\n",
        "                # Salva SOLO corpo nel CSV (se vuoi)\n",
        "                if write_csv:\n",
        "                    dump_body_to_csv(lms, frame_idx, csv_writer)\n",
        "\n",
        "            writer.write(frame)\n",
        "            frame_idx += 1\n",
        "            pbar.update(1)\n",
        "\n",
        "cap.release()\n",
        "writer.release()\n",
        "if write_csv:\n",
        "    csv_file.close()\n",
        "\n",
        "print(f\"Video saved in: {out_path}\")\n",
        "if write_csv:\n",
        "    print(f\"CSV saved in: {csv_path}\")"
      ],
      "metadata": {
        "colab": {
          "base_uri": "https://localhost:8080/"
        },
        "id": "GoN1IfFQ7yv3",
        "outputId": "6e02fdea-ed1f-44dc-a326-77235123e04a"
      },
      "execution_count": null,
      "outputs": [
        {
          "output_type": "stream",
          "name": "stderr",
          "text": [
            "Video elaboration:  73%|███████▎  | 2644/3605 [03:37<01:33, 10.31frame/s]"
          ]
        }
      ]
    }
  ]
}