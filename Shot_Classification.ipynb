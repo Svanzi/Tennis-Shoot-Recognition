{
  "cells": [
    {
      "cell_type": "code",
      "execution_count": 3,
      "id": "6993494d",
      "metadata": {
        "id": "6993494d"
      },
      "outputs": [],
      "source": [
        "from google.colab import drive\n",
        "import os, pathlib\n",
        "from pathlib import Path\n",
        "import pandas as pd\n",
        "import numpy as np"
      ]
    },
    {
      "cell_type": "code",
      "source": [
        "drive.mount('/content/drive')\n",
        "\n",
        "REPO_URL   = \"https://github.com/Svanzi/Tennis-Shot-Recognition.git\"\n",
        "BASE       = \"/content/drive/MyDrive/University/Deep\"\n",
        "SPARSE_DIR = \"Tennis-Shot-Recognition\"   # repo \"leggera\" solo per i dati\n",
        "TARGET     = f\"{BASE}/{SPARSE_DIR}\"\n",
        "\n",
        "os.makedirs(BASE, exist_ok=True)\n",
        "\n",
        "# Clona in modalità sparse solo la prima volta\n",
        "if not os.path.exists(TARGET):\n",
        "    %cd {BASE}\n",
        "    !git clone --filter=blob:none --sparse {REPO_URL} {SPARSE_DIR}\n",
        "    %cd {SPARSE_DIR}\n",
        "    !git sparse-checkout set DataSet\n",
        "else:\n",
        "    %cd {TARGET}\n",
        "    !git pull\n",
        "\n",
        "# Path da usare nel notebook\n",
        "from pathlib import Path\n",
        "DATA_DIR = Path(TARGET) / \"DataSet\"\n",
        "print(\"DATA_DIR =\", DATA_DIR)"
      ],
      "metadata": {
        "id": "zY0TQEjMINEs",
        "outputId": "e956b804-3cdd-49f4-a726-8028205c16a2",
        "colab": {
          "base_uri": "https://localhost:8080/"
        }
      },
      "id": "zY0TQEjMINEs",
      "execution_count": 1,
      "outputs": [
        {
          "output_type": "stream",
          "name": "stdout",
          "text": [
            "Mounted at /content/drive\n",
            "/content/drive/MyDrive/University/Deep/Tennis-Shot-Recognition_ds\n",
            "remote: Enumerating objects: 3, done.\u001b[K\n",
            "remote: Counting objects: 100% (3/3), done.\u001b[K\n",
            "remote: Compressing objects: 100% (2/2), done.\u001b[K\n",
            "remote: Total 2 (delta 1), reused 0 (delta 0), pack-reused 0 (from 0)\u001b[K\n",
            "Receiving objects: 100% (2/2), 266 bytes | 19.00 KiB/s, done.\n",
            "Resolving deltas: 100% (1/1), completed with 1 local object.\n",
            "From https://github.com/Svanzi/Tennis-Shot-Recognition\n",
            "   07eb185..9dcb9e3  main       -> origin/main\n",
            "Updating 07eb185..9dcb9e3\n",
            "Fast-forward\n",
            "remote: Enumerating objects: 1, done.\u001b[K\n",
            "remote: Counting objects: 100% (1/1), done.\u001b[K\n",
            "remote: Total 1 (delta 0), reused 0 (delta 0), pack-reused 0 (from 0)\u001b[K\n",
            "Receiving objects: 100% (1/1), 1.45 KiB | 36.00 KiB/s, done.\n",
            " Shot_Classification.ipynb | 161 \u001b[32m++++++++++++++++++++++++++++++++++\u001b[m\u001b[31m------------\u001b[m\n",
            " 1 file changed, 120 insertions(+), 41 deletions(-)\n",
            "DATA_DIR = /content/drive/MyDrive/University/Deep/Tennis-Shot-Recognition_ds/DataSet\n"
          ]
        }
      ]
    },
    {
      "cell_type": "code",
      "source": [
        "DATA_DIR = Path(\"/content/drive/MyDrive/University/Deep/Tennis-Shot-Recognition/DataSet\")\n",
        "\n",
        "\n",
        "files = sorted(DATA_DIR.glob(\"**/*.csv\"))\n",
        "print(len(files), \"file\")\n",
        "\n",
        "# carica ogni csv in un np.array (righe = tempo, colonne = feature)\n",
        "seqs = [pd.read_csv(f).to_numpy() for f in files]  # lista di array (lunghezze possono variare)\n"
      ],
      "metadata": {
        "id": "bek0pWG9Mnlt"
      },
      "id": "bek0pWG9Mnlt",
      "execution_count": null,
      "outputs": []
    }
  ],
  "metadata": {
    "language_info": {
      "name": "python"
    },
    "colab": {
      "provenance": []
    },
    "kernelspec": {
      "name": "python3",
      "display_name": "Python 3"
    }
  },
  "nbformat": 4,
  "nbformat_minor": 5
}