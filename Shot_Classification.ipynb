{
  "cells": [
    {
      "cell_type": "code",
      "execution_count": 1,
      "id": "6993494d",
      "metadata": {
        "id": "6993494d"
      },
      "outputs": [],
      "source": [
        "from google.colab import drive\n",
        "import os, pathlib\n",
        "from pathlib import Path\n",
        "import pandas as pd\n",
        "import numpy as np\n",
        "from tqdm import tqdm\n",
        "import matplotlib.pyplot as plt"
      ]
    },
    {
      "cell_type": "code",
      "source": [
        "drive.mount('/content/drive')\n",
        "\n",
        "REPO_URL   = \"https://github.com/Svanzi/Tennis-Shot-Recognition.git\"\n",
        "BASE       = \"/content/drive/MyDrive/University/Deep\"\n",
        "SPARSE_DIR = \"Tennis-Shot-Recognition\"   # repo \"leggera\" solo per i dati\n",
        "TARGET     = f\"{BASE}/{SPARSE_DIR}\"\n",
        "\n",
        "os.makedirs(BASE, exist_ok=True)\n",
        "\n",
        "# Clona in modalità sparse solo la prima volta\n",
        "if not os.path.exists(TARGET):\n",
        "    %cd {BASE}\n",
        "    !git clone --filter=blob:none --sparse {REPO_URL} {SPARSE_DIR}\n",
        "    %cd {SPARSE_DIR}\n",
        "    !git sparse-checkout set DataSet\n",
        "else:\n",
        "    %cd {TARGET}\n",
        "    !git pull\n",
        "\n",
        "# Path da usare nel notebook\n",
        "from pathlib import Path\n",
        "DATA_DIR = Path(TARGET) / \"DataSet\"\n",
        "print(\"DATA_DIR =\", DATA_DIR)"
      ],
      "metadata": {
        "id": "zY0TQEjMINEs",
        "outputId": "7ecd363e-4423-413b-b735-ea7e21d7187f",
        "colab": {
          "base_uri": "https://localhost:8080/"
        }
      },
      "id": "zY0TQEjMINEs",
      "execution_count": 2,
      "outputs": [
        {
          "output_type": "stream",
          "name": "stdout",
          "text": [
            "Mounted at /content/drive\n",
            "/content/drive/MyDrive/University/Deep/Tennis-Shot-Recognition\n",
            "remote: Enumerating objects: 5, done.\u001b[K\n",
            "remote: Counting objects: 100% (5/5), done.\u001b[K\n",
            "remote: Compressing objects: 100% (4/4), done.\u001b[K\n",
            "remote: Total 4 (delta 2), reused 0 (delta 0), pack-reused 0 (from 0)\u001b[K\n",
            "Receiving objects: 100% (4/4), 498 bytes | 27.00 KiB/s, done.\n",
            "Resolving deltas: 100% (2/2), completed with 1 local object.\n",
            "From https://github.com/Svanzi/Tennis-Shot-Recognition\n",
            "   e834648..24a8060  main       -> origin/main\n",
            "Updating e834648..24a8060\n",
            "Fast-forward\n",
            "remote: Enumerating objects: 1, done.\u001b[K\n",
            "remote: Counting objects: 100% (1/1), done.\u001b[K\n",
            "remote: Total 1 (delta 0), reused 0 (delta 0), pack-reused 0 (from 0)\u001b[K\n",
            "Receiving objects: 100% (1/1), 23.70 KiB | 836.00 KiB/s, done.\n",
            " Shot_Classification.ipynb | 652 \u001b[32m+++++++++++++++++++++++++++++++++++++++++++\u001b[m\u001b[31m---\u001b[m\n",
            " 1 file changed, 623 insertions(+), 29 deletions(-)\n",
            "DATA_DIR = /content/drive/MyDrive/University/Deep/Tennis-Shot-Recognition/DataSet\n"
          ]
        }
      ]
    },
    {
      "cell_type": "code",
      "source": [
        "DATA_DIR = Path(\"/content/drive/MyDrive/University/Deep/Tennis-Shot-Recognition/DataSet\")\n",
        "players = sorted([p for p in DATA_DIR.iterdir() if p.is_dir()])\n",
        "\n",
        "X=[]\n",
        "Y=[]\n",
        "x_test=[]\n",
        "y_test=[]\n",
        "\n",
        "for player in tqdm(players, desc=\"Players\", leave=False):\n",
        "    print(f\"\\n**** Parsing the shots of {player.name} ****\\n\")\n",
        "    for shot_csv in sorted(player.glob(\"*.csv\")):\n",
        "        print(shot_csv.name)\n",
        "        data = pd.read_csv(shot_csv)\n",
        "\n",
        "        data_train = data[:int(0.8*len(data))]\n",
        "        data_test = data[int(0.8*len(data)):]\n",
        "\n",
        "        features_train = list(data_train.loc[:, data.columns != 'shot'].to_numpy())\n",
        "        features_test = list(data_test.loc[:, data.columns != 'shot'].to_numpy())\n",
        "\n",
        "        X.extend(features_train)\n",
        "        Y.extend(data_train[\"shot\"].to_numpy().flatten())\n",
        "\n",
        "        x_test.extend(features_test)\n",
        "        y_test.extend(data_test[\"shot\"].to_numpy().flatten())\n",
        "\n",
        "X = np.stack(X, axis=0)\n",
        "X = np.array(X)\n",
        "Y = np.array(Y)\n",
        "y_test = np.array(y_test)\n",
        "\n",
        "print(\"\\n\\n\")\n",
        "print(f\"Loaded {len(Y)} shots for training\")\n",
        "print(f\"Loaded {len(y_test)} shots for test\")"
      ],
      "metadata": {
        "id": "bek0pWG9Mnlt",
        "colab": {
          "base_uri": "https://localhost:8080/"
        },
        "outputId": "3b30072e-9bae-4714-b60f-f5591d543d8c"
      },
      "id": "bek0pWG9Mnlt",
      "execution_count": 45,
      "outputs": [
        {
          "output_type": "stream",
          "name": "stderr",
          "text": [
            "\rPlayers:   0%|          | 0/2 [00:00<?, ?it/s]"
          ]
        },
        {
          "output_type": "stream",
          "name": "stdout",
          "text": [
            "\n",
            "**** Parsing the shots of Alcaraz ****\n",
            "\n",
            "backhand_001.csv\n",
            "backhand_002.csv\n",
            "backhand_003.csv\n",
            "backhand_004.csv\n",
            "backhand_005.csv\n",
            "backhand_006.csv\n",
            "backhand_007.csv\n",
            "forehand_001.csv\n",
            "forehand_002.csv\n",
            "forehand_003.csv\n",
            "forehand_004.csv\n",
            "forehand_005.csv\n",
            "forehand_006.csv\n",
            "forehand_007.csv\n",
            "forehand_008.csv\n",
            "forehand_009.csv\n",
            "forehand_010.csv\n",
            "forehand_011.csv\n",
            "forehand_012.csv\n",
            "forehand_013.csv\n",
            "forehand_014.csv\n",
            "forehand_015.csv\n",
            "forehand_016.csv\n",
            "forehand_017.csv\n",
            "forehand_018.csv\n",
            "forehand_019.csv\n",
            "forehand_020.csv\n",
            "forehand_021.csv\n",
            "forehand_022.csv\n",
            "forehand_023.csv\n",
            "forehand_024.csv\n",
            "forehand_025.csv\n",
            "forehand_026.csv\n",
            "forehand_027.csv\n",
            "forehand_028.csv\n",
            "forehand_029.csv\n",
            "forehand_030.csv\n",
            "neutral_001.csv\n",
            "neutral_002.csv\n",
            "neutral_003.csv\n",
            "neutral_004.csv\n",
            "neutral_005.csv\n",
            "neutral_006.csv\n",
            "neutral_007.csv\n",
            "neutral_008.csv\n",
            "neutral_009.csv\n",
            "neutral_010.csv\n",
            "neutral_011.csv\n",
            "neutral_012.csv\n",
            "neutral_013.csv\n",
            "neutral_014.csv\n",
            "neutral_015.csv\n",
            "neutral_016.csv\n",
            "neutral_017.csv\n",
            "neutral_018.csv\n",
            "neutral_019.csv\n",
            "neutral_020.csv\n",
            "neutral_021.csv\n",
            "neutral_022.csv\n",
            "neutral_023.csv\n",
            "neutral_024.csv\n",
            "neutral_025.csv\n",
            "neutral_026.csv\n",
            "neutral_027.csv\n",
            "neutral_028.csv\n",
            "neutral_029.csv\n"
          ]
        },
        {
          "output_type": "stream",
          "name": "stderr",
          "text": [
            "\rPlayers:  50%|█████     | 1/2 [00:00<00:00,  1.10it/s]"
          ]
        },
        {
          "output_type": "stream",
          "name": "stdout",
          "text": [
            "neutral_030.csv\n",
            "neutral_031.csv\n",
            "neutral_032.csv\n",
            "neutral_033.csv\n",
            "neutral_034.csv\n",
            "neutral_035.csv\n",
            "neutral_036.csv\n",
            "\n",
            "**** Parsing the shots of Sinner ****\n",
            "\n",
            "backhand_001.csv\n",
            "backhand_002.csv\n",
            "backhand_003.csv\n",
            "backhand_004.csv\n",
            "backhand_005.csv\n",
            "backhand_006.csv\n",
            "backhand_007.csv\n",
            "backhand_008.csv\n",
            "forehand_001.csv\n",
            "forehand_002.csv\n",
            "forehand_003.csv\n",
            "forehand_004.csv\n",
            "forehand_005.csv\n",
            "forehand_006.csv\n",
            "forehand_007.csv\n",
            "forehand_008.csv\n",
            "forehand_009.csv\n",
            "forehand_010.csv\n",
            "forehand_011.csv\n",
            "forehand_012.csv\n",
            "forehand_013.csv\n",
            "forehand_014.csv\n",
            "forehand_015.csv\n",
            "forehand_016.csv\n",
            "forehand_017.csv\n",
            "forehand_018.csv\n",
            "forehand_019.csv\n",
            "forehand_020.csv\n",
            "forehand_021.csv\n",
            "forehand_022.csv\n",
            "forehand_023.csv\n",
            "forehand_024.csv\n",
            "forehand_025.csv\n",
            "forehand_026.csv\n",
            "neutral_001.csv\n",
            "neutral_002.csv\n",
            "neutral_003.csv\n",
            "neutral_004.csv\n",
            "neutral_005.csv\n",
            "neutral_006.csv\n",
            "neutral_007.csv\n",
            "neutral_008.csv\n",
            "neutral_009.csv\n",
            "neutral_010.csv\n",
            "neutral_011.csv\n",
            "neutral_012.csv\n",
            "neutral_013.csv\n",
            "neutral_014.csv\n",
            "neutral_015.csv\n",
            "neutral_016.csv\n",
            "neutral_017.csv\n",
            "neutral_018.csv\n",
            "neutral_019.csv\n",
            "neutral_020.csv\n",
            "neutral_021.csv\n",
            "neutral_022.csv\n",
            "neutral_023.csv\n",
            "neutral_024.csv\n",
            "neutral_025.csv\n",
            "neutral_026.csv\n"
          ]
        },
        {
          "output_type": "stream",
          "name": "stderr",
          "text": [
            "                                                      "
          ]
        },
        {
          "output_type": "stream",
          "name": "stdout",
          "text": [
            "neutral_027.csv\n",
            "neutral_028.csv\n",
            "neutral_029.csv\n",
            "neutral_030.csv\n",
            "neutral_031.csv\n",
            "neutral_032.csv\n",
            "neutral_033.csv\n",
            "\n",
            "\n",
            "\n",
            "Loaded 3360 shots for training\n",
            "Loaded 980 shots for test\n"
          ]
        },
        {
          "output_type": "stream",
          "name": "stderr",
          "text": [
            "\r"
          ]
        }
      ]
    },
    {
      "cell_type": "code",
      "source": [
        "print(X)"
      ],
      "metadata": {
        "id": "6hANAEoEHGA9",
        "outputId": "96841dee-62d6-4a25-c51b-c705864c899e",
        "colab": {
          "base_uri": "https://localhost:8080/"
        }
      },
      "id": "6hANAEoEHGA9",
      "execution_count": 36,
      "outputs": [
        {
          "output_type": "stream",
          "name": "stdout",
          "text": [
            "[[0.47537094 0.42198735 0.480145   ... 0.43361482 0.7864063  0.4828802 ]\n",
            " [0.4759235  0.4219989  0.47949362 ... 0.43354845 0.7880765  0.47143674]\n",
            " [0.47548828 0.4219664  0.47920176 ... 0.43335754 0.79009086 0.45664233]\n",
            " ...\n",
            " [0.45424196 0.34041843 0.4637692  ... 0.31002524 0.77155685 0.3890084 ]\n",
            " [0.45499817 0.34166566 0.46419644 ... 0.31127426 0.7705901  0.39130765]\n",
            " [0.4561     0.34284395 0.4648346  ... 0.3112963  0.7706611  0.39440447]]\n"
          ]
        }
      ]
    },
    {
      "cell_type": "code",
      "source": [
        "# Robust counts (and sorted)\n",
        "shots, counts = np.unique(Y, return_counts=True)\n",
        "order = np.argsort(counts)[::-1]\n",
        "shots, counts = shots[order], counts[order]\n",
        "\n",
        "def pie_plot(shots, counts):\n",
        "\n",
        "  fig, ax = plt.subplots()\n",
        "\n",
        "  # Pie with percentages\n",
        "  wedges, texts, autotexts = ax.pie(\n",
        "      counts,\n",
        "      autopct='%1.1f%%',\n",
        "      startangle=90\n",
        "  )\n",
        "\n",
        "  ax.axis('equal')\n",
        "  ax.set_title('Shots dataset')\n",
        "\n",
        "  # Legend on the side with \"label — count\"\n",
        "  legend_labels = [f\"{label} — {cnt}\" for label, cnt in zip(shots, counts)]\n",
        "  ax.legend(\n",
        "      wedges, legend_labels,\n",
        "      title=\"Shots (counts)\",\n",
        "      loc=\"center left\",\n",
        "      bbox_to_anchor=(1.02, 0.5),\n",
        "      frameon=False\n",
        "  )\n",
        "\n",
        "  plt.tight_layout()\n",
        "  plt.show()"
      ],
      "metadata": {
        "id": "JcAMQQRdr9iZ"
      },
      "id": "JcAMQQRdr9iZ",
      "execution_count": 46,
      "outputs": []
    },
    {
      "cell_type": "code",
      "source": [
        "pie_plot(shots, counts)"
      ],
      "metadata": {
        "id": "ojgx7Y5EC6Vt",
        "outputId": "ccb83b42-a2a2-4d52-f11c-3c4ba627a9e4",
        "colab": {
          "base_uri": "https://localhost:8080/",
          "height": 487
        }
      },
      "id": "ojgx7Y5EC6Vt",
      "execution_count": 47,
      "outputs": [
        {
          "output_type": "display_data",
          "data": {
            "text/plain": [
              "<Figure size 640x480 with 1 Axes>"
            ],
            "image/png": "[encoded data removed]"
          },
          "metadata": {}
        }
      ]
    },
    {
      "cell_type": "code",
      "source": [
        "# Take backhand occurences and cap all other classes to this value\n",
        "\n",
        "target_occurences_per_class = np.count_nonzero(Y == \"backhand\")\n",
        "subset_indices = []\n",
        "for shot in shots:\n",
        "    indices = np.argwhere(Y == shot)\n",
        "    size_subset = min(target_occurences_per_class, len(indices))\n",
        "    assert(len(indices)>= size_subset)\n",
        "    subset_indices.extend((np.random.choice(indices[:, 0], size=size_subset, replace = False)))\n",
        "\n",
        "subset_indices = np.sort(subset_indices)\n",
        "\n",
        "equalized_Y = Y[subset_indices]\n",
        "equalized_X = X[subset_indices]\n",
        "\n",
        "equalized_occurences = [np.count_nonzero(equalized_Y == shot) for shot in shots]"
      ],
      "metadata": {
        "id": "9hTFipVztO-T"
      },
      "id": "9hTFipVztO-T",
      "execution_count": 48,
      "outputs": []
    },
    {
      "cell_type": "code",
      "source": [
        "pie_plot(shots, equalized_occurences)"
      ],
      "metadata": {
        "id": "Ro7aUvefDZYU",
        "outputId": "474d403a-88f0-462d-d2be-a8ec8c6781f2",
        "colab": {
          "base_uri": "https://localhost:8080/",
          "height": 487
        }
      },
      "id": "Ro7aUvefDZYU",
      "execution_count": 49,
      "outputs": [
        {
          "output_type": "display_data",
          "data": {
            "text/plain": [
              "<Figure size 640x480 with 1 Axes>"
            ],
            "image/png": "[encoded data removed]"
          },
          "metadata": {}
        }
      ]
    }
  ],
  "metadata": {
    "language_info": {
      "name": "python"
    },
    "colab": {
      "provenance": []
    },
    "kernelspec": {
      "name": "python3",
      "display_name": "Python 3"
    }
  },
  "nbformat": 4,
  "nbformat_minor": 5
}