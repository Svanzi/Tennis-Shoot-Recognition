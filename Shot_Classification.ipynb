{
  "cells": [
    {
      "cell_type": "code",
      "execution_count": null,
      "id": "6993494d",
      "metadata": {
        "id": "6993494d"
      },
      "outputs": [],
      "source": [
        "import tensorflow as tf\n",
        "from tensorflow import keras\n",
        "from tensorflow.keras import layers\n",
        "\n",
        "from keras.models import Sequential\n",
        "from keras.layers import Convolution2D, Dropout, Dense\n",
        "from keras.layers import BatchNormalization\n",
        "from keras.layers import MaxPooling2D\n",
        "from keras.layers import Flatten\n",
        "from keras.layers import LeakyReLU\n",
        "from keras.callbacks import ModelCheckpoint\n",
        "\n",
        "from sklearn import preprocessing\n",
        "from sklearn.metrics import confusion_matrix\n",
        "from sklearn.model_selection import train_test_split\n",
        "import pandas as pd\n",
        "import seaborn as sn\n",
        "import numpy as np\n",
        "import matplotlib.pyplot as plt\n",
        "import pandas as pd\n",
        "from tqdm import tqdm\n",
        "import os"
      ]
    },
    {
      "cell_type": "code",
      "source": [
        "# Solo la cartella DataSet dalla tua repo\n",
        "from google.colab import drive\n",
        "drive.mount('/content/drive')\n",
        "\n",
        "REPO_URL   = \"https://github.com/Svanzi/Tennis-Shot-Recognition.git\"\n",
        "BASE       = \"/content/drive/MyDrive/University/Deep\"\n",
        "SPARSE_DIR = \"Tennis-Shot-Recognition_ds\"   # repo \"leggera\" solo per i dati\n",
        "TARGET     = f\"{BASE}/{SPARSE_DIR}\"\n",
        "\n",
        "import os, pathlib\n",
        "os.makedirs(BASE, exist_ok=True)\n",
        "\n",
        "# Clona in modalità sparse solo la prima volta\n",
        "if not os.path.exists(TARGET):\n",
        "    %cd {BASE}\n",
        "    !git clone --filter=blob:none --sparse {REPO_URL} {SPARSE_DIR}\n",
        "    %cd {SPARSE_DIR}\n",
        "    !git sparse-checkout set DataSet\n",
        "else:\n",
        "    %cd {TARGET}\n",
        "    !git pull\n",
        "\n",
        "# Path da usare nel notebook\n",
        "from pathlib import Path\n",
        "DATA_DIR = Path(TARGET) / \"DataSet\"\n",
        "print(\"DATA_DIR =\", DATA_DIR)"
      ],
      "metadata": {
        "id": "zY0TQEjMINEs",
        "outputId": "980063b6-1eff-45ca-95fb-8f494e37d6bb",
        "colab": {
          "base_uri": "https://localhost:8080/"
        }
      },
      "id": "zY0TQEjMINEs",
      "execution_count": 3,
      "outputs": [
        {
          "output_type": "stream",
          "name": "stdout",
          "text": [
            "Drive already mounted at /content/drive; to attempt to forcibly remount, call drive.mount(\"/content/drive\", force_remount=True).\n",
            "/content/drive/MyDrive/University/Deep\n",
            "Cloning into 'Tennis-Shot-Recognition_ds'...\n",
            "remote: Enumerating objects: 37, done.\u001b[K\n",
            "remote: Counting objects: 100% (37/37), done.\u001b[K\n",
            "remote: Compressing objects: 100% (36/36), done.\u001b[K\n",
            "remote: Total 37 (delta 4), reused 17 (delta 1), pack-reused 0 (from 0)\u001b[K\n",
            "Receiving objects: 100% (37/37), 11.35 KiB | 1.13 MiB/s, done.\n",
            "Resolving deltas: 100% (4/4), done.\n",
            "remote: Enumerating objects: 5, done.\u001b[K\n",
            "remote: Counting objects: 100% (5/5), done.\u001b[K\n",
            "remote: Compressing objects: 100% (5/5), done.\u001b[K\n",
            "remote: Total 5 (delta 0), reused 2 (delta 0), pack-reused 0 (from 0)\u001b[K\n",
            "Receiving objects: 100% (5/5), 8.88 KiB | 909.00 KiB/s, done.\n",
            "/content/drive/MyDrive/University/Deep/Tennis-Shot-Recognition_ds\n",
            "remote: Enumerating objects: 140, done.\u001b[K\n",
            "remote: Counting objects: 100% (140/140), done.\u001b[K\n",
            "remote: Compressing objects: 100% (140/140), done.\u001b[K\n",
            "remote: Total 140 (delta 0), reused 140 (delta 0), pack-reused 0 (from 0)\u001b[K\n",
            "Receiving objects: 100% (140/140), 489.31 KiB | 2.00 MiB/s, done.\n",
            "Updating files: 100% (145/145), done.\n",
            "DATA_DIR = /content/drive/MyDrive/University/Deep/Tennis-Shot-Recognition_ds/DataSet\n"
          ]
        }
      ]
    }
  ],
  "metadata": {
    "language_info": {
      "name": "python"
    },
    "colab": {
      "provenance": []
    },
    "kernelspec": {
      "name": "python3",
      "display_name": "Python 3"
    }
  },
  "nbformat": 4,
  "nbformat_minor": 5
}