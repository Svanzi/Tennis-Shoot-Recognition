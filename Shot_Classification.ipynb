{
  "cells": [
    {
      "cell_type": "code",
      "execution_count": 1,
      "id": "6993494d",
      "metadata": {
        "id": "6993494d"
      },
      "outputs": [],
      "source": [
        "from google.colab import drive\n",
        "import os, pathlib\n",
        "from pathlib import Path\n",
        "import pandas as pd\n",
        "import numpy as np\n",
        "from tqdm import tqdm\n",
        "import matplotlib.pyplot as plt\n",
        "from sklearn.model_selection import train_test_split\n",
        "from sklearn import preprocessing\n",
        "import tensorflow as tf\n",
        "from tensorflow.keras import layers, models, Input"
      ]
    },
    {
      "cell_type": "code",
      "source": [
        "drive.mount('/content/drive')\n",
        "\n",
        "REPO_URL   = \"https://github.com/Svanzi/Tennis-Shot-Recognition.git\"\n",
        "BASE       = \"/content/drive/MyDrive/University/Deep\"\n",
        "SPARSE_DIR = \"Tennis-Shot-Recognition\"   # repo \"leggera\" solo per i dati\n",
        "TARGET     = f\"{BASE}/{SPARSE_DIR}\"\n",
        "\n",
        "os.makedirs(BASE, exist_ok=True)\n",
        "\n",
        "# Clona in modalità sparse solo la prima volta\n",
        "if not os.path.exists(TARGET):\n",
        "    %cd {BASE}\n",
        "    !git clone --filter=blob:none --sparse {REPO_URL} {SPARSE_DIR}\n",
        "    %cd {SPARSE_DIR}\n",
        "    !git sparse-checkout set DataSet\n",
        "else:\n",
        "    %cd {TARGET}\n",
        "    !git pull\n",
        "\n",
        "# Path da usare nel notebook\n",
        "from pathlib import Path\n",
        "DATA_DIR = Path(TARGET) / \"DataSet\"\n",
        "print(\"DATA_DIR =\", DATA_DIR)"
      ],
      "metadata": {
        "id": "zY0TQEjMINEs",
        "outputId": "ff2eedbb-03d9-4958-ae1a-158878546c9d",
        "colab": {
          "base_uri": "https://localhost:8080/"
        }
      },
      "id": "zY0TQEjMINEs",
      "execution_count": 2,
      "outputs": [
        {
          "output_type": "stream",
          "name": "stdout",
          "text": [
            "Mounted at /content/drive\n",
            "/content/drive/MyDrive/University/Deep/Tennis-Shot-Recognition\n",
            "remote: Enumerating objects: 7, done.\u001b[K\n",
            "remote: Counting objects: 100% (7/7), done.\u001b[K\n",
            "remote: Compressing objects: 100% (6/6), done.\u001b[K\n",
            "remote: Total 6 (delta 3), reused 0 (delta 0), pack-reused 0 (from 0)\u001b[K\n",
            "Receiving objects: 100% (6/6), 731 bytes | 11.00 KiB/s, done.\n",
            "Resolving deltas: 100% (3/3), completed with 1 local object.\n",
            "From https://github.com/Svanzi/Tennis-Shot-Recognition\n",
            "   3770edf..28f9509  main       -> origin/main\n",
            "Updating 3770edf..28f9509\n",
            "Fast-forward\n",
            "remote: Enumerating objects: 1, done.\u001b[K\n",
            "remote: Counting objects: 100% (1/1), done.\u001b[K\n",
            "remote: Total 1 (delta 0), reused 0 (delta 0), pack-reused 0 (from 0)\u001b[K\n",
            "Receiving objects: 100% (1/1), 60.13 KiB | 1.54 MiB/s, done.\n",
            " Shot_Classification.ipynb | 530 \u001b[32m+++++++++++++++++++++++++++++++++++\u001b[m\u001b[31m-----------\u001b[m\n",
            " 1 file changed, 402 insertions(+), 128 deletions(-)\n",
            "DATA_DIR = /content/drive/MyDrive/University/Deep/Tennis-Shot-Recognition/DataSet\n"
          ]
        }
      ]
    },
    {
      "cell_type": "markdown",
      "source": [
        "# Sequence creation"
      ],
      "metadata": {
        "id": "b7CDbJp4C0IF"
      },
      "id": "b7CDbJp4C0IF"
    },
    {
      "cell_type": "code",
      "source": [
        "def idx_of(prefixes):\n",
        "  idx = []\n",
        "  for p in prefixes:\n",
        "    for suff in ['_x','_y']:\n",
        "      name = p + suff\n",
        "      if name in cols:\n",
        "        idx.append(cols.get_loc(name))\n",
        "  return idx"
      ],
      "metadata": {
        "id": "ofM3luV2CteY"
      },
      "id": "ofM3luV2CteY",
      "execution_count": 28,
      "outputs": []
    },
    {
      "cell_type": "code",
      "source": [
        "DATA_DIR = Path(\"/content/drive/MyDrive/University/Deep/Tennis-Shot-Recognition/DataSet\")\n",
        "players = sorted([p for p in DATA_DIR.iterdir() if p.is_dir()])\n",
        "\n",
        "feature_cols = None\n",
        "sequences = []        # List of dict: {\"left_arm\": (T,6), \"right_arm\":..., \"torso\":(T,8)}\n",
        "sequence_labels = []  # A label for each CSV\n",
        "\n",
        "for player in tqdm(players):\n",
        "  for shot_csv in sorted(player.glob(\"*.csv\")):\n",
        "    df = pd.read_csv(shot_csv)\n",
        "    if feature_cols is None:\n",
        "      feature_cols = pd.Index([c for c in df.columns if c!= 'shot'])"
      ],
      "metadata": {
        "id": "wDR3JqgjCMFn"
      },
      "id": "wDR3JqgjCMFn",
      "execution_count": null,
      "outputs": []
    },
    {
      "cell_type": "markdown",
      "source": [
        "Versione alternativa"
      ],
      "metadata": {
        "id": "0n_tk-LIdwOX"
      },
      "id": "0n_tk-LIdwOX"
    },
    {
      "cell_type": "code",
      "source": [
        "DATA_DIR = Path(\"/content/drive/MyDrive/University/Deep/Tennis-Shot-Recognition/DataSet\")\n",
        "players = sorted([p for p in DATA_DIR.iterdir() if p.is_dir()])\n",
        "\n",
        "X, Y = [], []\n",
        "\n",
        "X_test, y_test = [], []\n",
        "\n",
        "first = True\n",
        "feature_cols = None\n",
        "\n",
        "for player in tqdm(players, desc=\"Players\", leave=False):\n",
        "    print(f\"\\n**** Parsing the shots of {player.name} ****\\n\")\n",
        "    for shot_csv in sorted(player.glob(\"*.csv\")):\n",
        "        print(shot_csv.name)\n",
        "        data = pd.read_csv(shot_csv)\n",
        "\n",
        "        if first:\n",
        "          feature_cols = [c for c in data.columns if c!= 'shot']\n",
        "          first = False\n",
        "        else:\n",
        "          assert feature_cols == [c for c in data.columns if c != 'shot'], f\"Colonne diverse in {shot_csv}\"\n",
        "\n",
        "        # --- Split 80/20 ---\n",
        "\n",
        "        data_train = data[:int(0.8*len(data))]\n",
        "        data_test = data[int(0.8*len(data)):]\n",
        "\n",
        "        X.extend(data_train[feature_cols].to_numpy())\n",
        "        Y.extend(data_train[\"shot\"].to_numpy().flatten())\n",
        "\n",
        "        X_test.extend(data_test[feature_cols].to_numpy())\n",
        "        y_test.extend(data_test[\"shot\"].to_numpy().flatten())\n",
        "\n",
        "X = np.stack(X, axis=0)\n",
        "Y = np.array(Y)\n",
        "X_test = np.array(X_test)\n",
        "y_test = np.array(y_test)\n",
        "\n",
        "print(\"\\n\\n\")\n",
        "print(f\"Loaded {len(Y)} shots for training\")\n",
        "print(f\"Loaded {len(y_test)} shots for test\")"
      ],
      "metadata": {
        "collapsed": true,
        "colab": {
          "base_uri": "https://localhost:8080/"
        },
        "id": "_S6MdA4QdzMK",
        "outputId": "22d78f2a-eb5e-46ad-9be2-ad9f5dd9c49a"
      },
      "id": "_S6MdA4QdzMK",
      "execution_count": 8,
      "outputs": [
        {
          "output_type": "stream",
          "name": "stderr",
          "text": [
            "\rPlayers:   0%|          | 0/2 [00:00<?, ?it/s]"
          ]
        },
        {
          "output_type": "stream",
          "name": "stdout",
          "text": [
            "\n",
            "**** Parsing the shots of Alcaraz ****\n",
            "\n",
            "backhand_001.csv\n",
            "backhand_002.csv\n",
            "backhand_003.csv\n",
            "backhand_004.csv\n",
            "backhand_005.csv\n",
            "backhand_006.csv\n",
            "backhand_007.csv\n",
            "forehand_001.csv\n",
            "forehand_002.csv\n",
            "forehand_003.csv\n",
            "forehand_004.csv\n",
            "forehand_005.csv\n",
            "forehand_006.csv\n",
            "forehand_007.csv\n",
            "forehand_008.csv\n",
            "forehand_009.csv\n",
            "forehand_010.csv\n",
            "forehand_011.csv\n",
            "forehand_012.csv\n",
            "forehand_013.csv\n",
            "forehand_014.csv\n",
            "forehand_015.csv\n",
            "forehand_016.csv\n",
            "forehand_017.csv\n",
            "forehand_018.csv\n",
            "forehand_019.csv\n",
            "forehand_020.csv\n",
            "forehand_021.csv\n",
            "forehand_022.csv\n",
            "forehand_023.csv\n",
            "forehand_024.csv\n",
            "forehand_025.csv\n",
            "forehand_026.csv\n",
            "forehand_027.csv\n",
            "forehand_028.csv\n",
            "forehand_029.csv\n",
            "forehand_030.csv\n",
            "neutral_001.csv\n",
            "neutral_002.csv\n",
            "neutral_003.csv\n",
            "neutral_004.csv\n",
            "neutral_005.csv\n",
            "neutral_006.csv\n",
            "neutral_007.csv\n",
            "neutral_008.csv\n",
            "neutral_009.csv\n",
            "neutral_010.csv\n",
            "neutral_011.csv\n",
            "neutral_012.csv\n",
            "neutral_013.csv\n",
            "neutral_014.csv\n",
            "neutral_015.csv\n",
            "neutral_016.csv\n",
            "neutral_017.csv\n",
            "neutral_018.csv\n",
            "neutral_019.csv\n",
            "neutral_020.csv\n",
            "neutral_021.csv\n",
            "neutral_022.csv\n",
            "neutral_023.csv\n",
            "neutral_024.csv\n",
            "neutral_025.csv\n",
            "neutral_026.csv\n",
            "neutral_027.csv\n",
            "neutral_028.csv\n"
          ]
        },
        {
          "output_type": "stream",
          "name": "stderr",
          "text": [
            "\rPlayers:  50%|█████     | 1/2 [00:00<00:00,  2.12it/s]"
          ]
        },
        {
          "output_type": "stream",
          "name": "stdout",
          "text": [
            "neutral_029.csv\n",
            "neutral_030.csv\n",
            "neutral_031.csv\n",
            "neutral_032.csv\n",
            "neutral_033.csv\n",
            "neutral_034.csv\n",
            "neutral_035.csv\n",
            "neutral_036.csv\n",
            "\n",
            "**** Parsing the shots of Sinner ****\n",
            "\n",
            "backhand_001.csv\n",
            "backhand_002.csv\n",
            "backhand_003.csv\n",
            "backhand_004.csv\n",
            "backhand_005.csv\n",
            "backhand_006.csv\n",
            "backhand_007.csv\n",
            "backhand_008.csv\n",
            "forehand_001.csv\n",
            "forehand_002.csv\n",
            "forehand_003.csv\n",
            "forehand_004.csv\n",
            "forehand_005.csv\n",
            "forehand_006.csv\n",
            "forehand_007.csv\n",
            "forehand_008.csv\n",
            "forehand_009.csv\n",
            "forehand_010.csv\n",
            "forehand_011.csv\n",
            "forehand_012.csv\n",
            "forehand_013.csv\n",
            "forehand_014.csv\n",
            "forehand_015.csv\n",
            "forehand_016.csv\n",
            "forehand_017.csv\n",
            "forehand_018.csv\n",
            "forehand_019.csv\n",
            "forehand_020.csv\n",
            "forehand_021.csv\n",
            "forehand_022.csv\n",
            "forehand_023.csv\n",
            "forehand_024.csv\n",
            "forehand_025.csv\n",
            "forehand_026.csv\n",
            "neutral_001.csv\n",
            "neutral_002.csv\n",
            "neutral_003.csv\n",
            "neutral_004.csv\n",
            "neutral_005.csv\n",
            "neutral_006.csv\n",
            "neutral_007.csv\n",
            "neutral_008.csv\n",
            "neutral_009.csv\n",
            "neutral_010.csv\n",
            "neutral_011.csv\n",
            "neutral_012.csv\n",
            "neutral_013.csv\n",
            "neutral_014.csv\n",
            "neutral_015.csv\n",
            "neutral_016.csv\n",
            "neutral_017.csv\n",
            "neutral_018.csv\n",
            "neutral_019.csv\n",
            "neutral_020.csv\n",
            "neutral_021.csv\n"
          ]
        },
        {
          "output_type": "stream",
          "name": "stderr",
          "text": [
            "                                                      "
          ]
        },
        {
          "output_type": "stream",
          "name": "stdout",
          "text": [
            "neutral_022.csv\n",
            "neutral_023.csv\n",
            "neutral_024.csv\n",
            "neutral_025.csv\n",
            "neutral_026.csv\n",
            "neutral_027.csv\n",
            "neutral_028.csv\n",
            "neutral_029.csv\n",
            "neutral_030.csv\n",
            "neutral_031.csv\n",
            "neutral_032.csv\n",
            "neutral_033.csv\n",
            "\n",
            "\n",
            "\n",
            "Loaded 3360 shots for training\n",
            "Loaded 980 shots for test\n"
          ]
        },
        {
          "output_type": "stream",
          "name": "stderr",
          "text": [
            "\r"
          ]
        }
      ]
    },
    {
      "cell_type": "code",
      "source": [
        "import re\n",
        "\n",
        "cols = pd.Index(feature_cols)\n",
        "\n",
        "def idx_of(prefixes):\n",
        "  idx = []\n",
        "  for p in prefixes:\n",
        "    for suff in ['_x','_y']:\n",
        "      name = p + suff\n",
        "      if name in cols:\n",
        "        idx.append(cols.get_loc(name))\n",
        "  return idx\n",
        "\n",
        "GROUPS = {\n",
        "    'left_arm':   idx_of(['left_shoulder',  'left_elbow',   'left_wrist'                        ]),\n",
        "    'right_arm':  idx_of(['right_shoulder', 'right_elbow',  'right_wrist'                       ]),\n",
        "    'left_leg':   idx_of(['left_hip',       'left_knee',    'left_ankle'                        ]),\n",
        "    'right_leg':  idx_of(['right_hip',      'right_knee',   'right_ankle'                       ]),\n",
        "    'torso':      idx_of(['left_hip',       'right_hip',     'left_shoulder',  'right_shoulder' ])\n",
        "}"
      ],
      "metadata": {
        "id": "KXjFkaDAgPzC"
      },
      "id": "KXjFkaDAgPzC",
      "execution_count": 9,
      "outputs": []
    },
    {
      "cell_type": "code",
      "source": [
        "X_parts      = {name: X[:, idx] for name, idx in GROUPS.items()}\n",
        "X_test_parts = {name: X_test[:, idx] for name, idx in GROUPS.items()}\n",
        "display(print(X_parts['torso'].shape))\n",
        "display(print(X_parts['left_arm'].shape))\n",
        "display(print(X_parts['right_arm'].shape))\n",
        "display(print(X_parts['left_leg'].shape))\n",
        "display(print(X_parts['right_leg'].shape))"
      ],
      "metadata": {
        "colab": {
          "base_uri": "https://localhost:8080/",
          "height": 200
        },
        "id": "Fpsd2YmMi0tC",
        "outputId": "5403ec1f-6ee5-4bbf-8f70-15aa7bebacf4"
      },
      "id": "Fpsd2YmMi0tC",
      "execution_count": 10,
      "outputs": [
        {
          "output_type": "stream",
          "name": "stdout",
          "text": [
            "(3360, 8)\n"
          ]
        },
        {
          "output_type": "display_data",
          "data": {
            "text/plain": [
              "None"
            ]
          },
          "metadata": {}
        },
        {
          "output_type": "stream",
          "name": "stdout",
          "text": [
            "(3360, 6)\n"
          ]
        },
        {
          "output_type": "display_data",
          "data": {
            "text/plain": [
              "None"
            ]
          },
          "metadata": {}
        },
        {
          "output_type": "stream",
          "name": "stdout",
          "text": [
            "(3360, 6)\n"
          ]
        },
        {
          "output_type": "display_data",
          "data": {
            "text/plain": [
              "None"
            ]
          },
          "metadata": {}
        },
        {
          "output_type": "stream",
          "name": "stdout",
          "text": [
            "(3360, 6)\n"
          ]
        },
        {
          "output_type": "display_data",
          "data": {
            "text/plain": [
              "None"
            ]
          },
          "metadata": {}
        },
        {
          "output_type": "stream",
          "name": "stdout",
          "text": [
            "(3360, 6)\n"
          ]
        },
        {
          "output_type": "display_data",
          "data": {
            "text/plain": [
              "None"
            ]
          },
          "metadata": {}
        }
      ]
    },
    {
      "cell_type": "markdown",
      "source": [
        "# SALTALO PER ORA"
      ],
      "metadata": {
        "id": "6gX3HERxe_Lw"
      },
      "id": "6gX3HERxe_Lw"
    },
    {
      "cell_type": "code",
      "source": [
        "DATA_DIR = Path(\"/content/drive/MyDrive/University/Deep/Tennis-Shot-Recognition/DataSet\")\n",
        "players = sorted([p for p in DATA_DIR.iterdir() if p.is_dir()])\n",
        "\n",
        "X=[]\n",
        "Y=[]\n",
        "X_test=[]\n",
        "y_test=[]\n",
        "\n",
        "for player in tqdm(players, desc=\"Players\", leave=False):\n",
        "    print(f\"\\n**** Parsing the shots of {player.name} ****\\n\")\n",
        "    for shot_csv in sorted(player.glob(\"*.csv\")):\n",
        "        print(shot_csv.name)\n",
        "        data = pd.read_csv(shot_csv)\n",
        "\n",
        "        data_train = data[:int(0.8*len(data))]\n",
        "        data_test = data[int(0.8*len(data)):]\n",
        "\n",
        "        features_train = list(data_train.loc[:, data.columns != 'shot'].to_numpy())\n",
        "        features_test = list(data_test.loc[:, data.columns != 'shot'].to_numpy())\n",
        "\n",
        "        X.extend(features_train)\n",
        "        Y.extend(data_train[\"shot\"].to_numpy().flatten())\n",
        "\n",
        "        X_test.extend(features_test)\n",
        "        y_test.extend(data_test[\"shot\"].to_numpy().flatten())\n",
        "\n",
        "X = np.stack(X, axis=0)\n",
        "X = np.array(X)\n",
        "Y = np.array(Y)\n",
        "y_test = np.array(y_test)\n",
        "\n",
        "print(\"\\n\\n\")\n",
        "print(f\"Loaded {len(Y)} shots for training\")\n",
        "print(f\"Loaded {len(y_test)} shots for test\")"
      ],
      "metadata": {
        "id": "bek0pWG9Mnlt",
        "colab": {
          "base_uri": "https://localhost:8080/"
        },
        "outputId": "072f4d4e-23ca-445d-a79d-0edec1df0424"
      },
      "id": "bek0pWG9Mnlt",
      "execution_count": 6,
      "outputs": [
        {
          "output_type": "stream",
          "name": "stderr",
          "text": [
            "\rPlayers:   0%|          | 0/2 [00:00<?, ?it/s]"
          ]
        },
        {
          "output_type": "stream",
          "name": "stdout",
          "text": [
            "\n",
            "**** Parsing the shots of Alcaraz ****\n",
            "\n",
            "backhand_001.csv\n",
            "backhand_002.csv\n",
            "backhand_003.csv\n",
            "backhand_004.csv\n",
            "backhand_005.csv\n",
            "backhand_006.csv\n",
            "backhand_007.csv\n",
            "forehand_001.csv\n",
            "forehand_002.csv\n",
            "forehand_003.csv\n",
            "forehand_004.csv\n",
            "forehand_005.csv\n",
            "forehand_006.csv\n",
            "forehand_007.csv\n",
            "forehand_008.csv\n",
            "forehand_009.csv\n",
            "forehand_010.csv\n",
            "forehand_011.csv\n",
            "forehand_012.csv\n",
            "forehand_013.csv\n",
            "forehand_014.csv\n",
            "forehand_015.csv\n",
            "forehand_016.csv\n",
            "forehand_017.csv\n",
            "forehand_018.csv\n",
            "forehand_019.csv\n",
            "forehand_020.csv\n",
            "forehand_021.csv\n",
            "forehand_022.csv\n",
            "forehand_023.csv\n",
            "forehand_024.csv\n",
            "forehand_025.csv\n",
            "forehand_026.csv\n",
            "forehand_027.csv\n",
            "forehand_028.csv\n",
            "forehand_029.csv\n",
            "forehand_030.csv\n",
            "neutral_001.csv\n",
            "neutral_002.csv\n",
            "neutral_003.csv\n",
            "neutral_004.csv\n",
            "neutral_005.csv\n",
            "neutral_006.csv\n",
            "neutral_007.csv\n",
            "neutral_008.csv\n",
            "neutral_009.csv\n",
            "neutral_010.csv\n",
            "neutral_011.csv\n",
            "neutral_012.csv\n",
            "neutral_013.csv\n",
            "neutral_014.csv\n",
            "neutral_015.csv\n",
            "neutral_016.csv\n",
            "neutral_017.csv\n",
            "neutral_018.csv\n",
            "neutral_019.csv\n",
            "neutral_020.csv\n",
            "neutral_021.csv\n",
            "neutral_022.csv\n",
            "neutral_023.csv\n",
            "neutral_024.csv\n",
            "neutral_025.csv\n",
            "neutral_026.csv\n",
            "neutral_027.csv\n",
            "neutral_028.csv\n",
            "neutral_029.csv\n",
            "neutral_030.csv\n",
            "neutral_031.csv\n",
            "neutral_032.csv\n"
          ]
        },
        {
          "output_type": "stream",
          "name": "stderr",
          "text": [
            "\rPlayers:  50%|█████     | 1/2 [00:00<00:00,  2.29it/s]"
          ]
        },
        {
          "output_type": "stream",
          "name": "stdout",
          "text": [
            "neutral_033.csv\n",
            "neutral_034.csv\n",
            "neutral_035.csv\n",
            "neutral_036.csv\n",
            "\n",
            "**** Parsing the shots of Sinner ****\n",
            "\n",
            "backhand_001.csv\n",
            "backhand_002.csv\n",
            "backhand_003.csv\n",
            "backhand_004.csv\n",
            "backhand_005.csv\n",
            "backhand_006.csv\n",
            "backhand_007.csv\n",
            "backhand_008.csv\n",
            "forehand_001.csv\n",
            "forehand_002.csv\n",
            "forehand_003.csv\n",
            "forehand_004.csv\n",
            "forehand_005.csv\n",
            "forehand_006.csv\n",
            "forehand_007.csv\n",
            "forehand_008.csv\n",
            "forehand_009.csv\n",
            "forehand_010.csv\n",
            "forehand_011.csv\n",
            "forehand_012.csv\n",
            "forehand_013.csv\n",
            "forehand_014.csv\n",
            "forehand_015.csv\n",
            "forehand_016.csv\n",
            "forehand_017.csv\n",
            "forehand_018.csv\n",
            "forehand_019.csv\n",
            "forehand_020.csv\n",
            "forehand_021.csv\n",
            "forehand_022.csv\n",
            "forehand_023.csv\n",
            "forehand_024.csv\n",
            "forehand_025.csv\n",
            "forehand_026.csv\n",
            "neutral_001.csv\n",
            "neutral_002.csv\n",
            "neutral_003.csv\n",
            "neutral_004.csv\n",
            "neutral_005.csv\n",
            "neutral_006.csv\n",
            "neutral_007.csv\n",
            "neutral_008.csv\n",
            "neutral_009.csv\n",
            "neutral_010.csv\n",
            "neutral_011.csv\n",
            "neutral_012.csv\n",
            "neutral_013.csv\n",
            "neutral_014.csv\n",
            "neutral_015.csv\n",
            "neutral_016.csv\n",
            "neutral_017.csv\n",
            "neutral_018.csv\n",
            "neutral_019.csv\n",
            "neutral_020.csv\n",
            "neutral_021.csv\n",
            "neutral_022.csv\n",
            "neutral_023.csv\n",
            "neutral_024.csv\n",
            "neutral_025.csv\n",
            "neutral_026.csv\n",
            "neutral_027.csv\n",
            "neutral_028.csv\n",
            "neutral_029.csv\n",
            "neutral_030.csv\n",
            "neutral_031.csv\n",
            "neutral_032.csv\n"
          ]
        },
        {
          "output_type": "stream",
          "name": "stderr",
          "text": [
            "                                                      "
          ]
        },
        {
          "output_type": "stream",
          "name": "stdout",
          "text": [
            "neutral_033.csv\n",
            "\n",
            "\n",
            "\n",
            "Loaded 3360 shots for training\n",
            "Loaded 980 shots for test\n"
          ]
        },
        {
          "output_type": "stream",
          "name": "stderr",
          "text": [
            "\r"
          ]
        }
      ]
    },
    {
      "cell_type": "code",
      "source": [
        "print(X)"
      ],
      "metadata": {
        "colab": {
          "base_uri": "https://localhost:8080/"
        },
        "id": "6hANAEoEHGA9",
        "outputId": "7969e70e-60db-409e-cea0-8ef08692bfde"
      },
      "id": "6hANAEoEHGA9",
      "execution_count": null,
      "outputs": [
        {
          "output_type": "stream",
          "name": "stdout",
          "text": [
            "[[0.47537094 0.42198735 0.480145   ... 0.43361482 0.7864063  0.4828802 ]\n",
            " [0.4759235  0.4219989  0.47949362 ... 0.43354845 0.7880765  0.47143674]\n",
            " [0.47548828 0.4219664  0.47920176 ... 0.43335754 0.79009086 0.45664233]\n",
            " ...\n",
            " [0.45424196 0.34041843 0.4637692  ... 0.31002524 0.77155685 0.3890084 ]\n",
            " [0.45499817 0.34166566 0.46419644 ... 0.31127426 0.7705901  0.39130765]\n",
            " [0.4561     0.34284395 0.4648346  ... 0.3112963  0.7706611  0.39440447]]\n"
          ]
        }
      ]
    },
    {
      "cell_type": "markdown",
      "source": [
        "# Print"
      ],
      "metadata": {
        "id": "jIZq4lWXnKff"
      },
      "id": "jIZq4lWXnKff"
    },
    {
      "cell_type": "code",
      "source": [
        "# Robust counts (and sorted)\n",
        "shots, counts = np.unique(Y, return_counts=True)\n",
        "order = np.argsort(counts)[::-1]\n",
        "shots, counts = shots[order], counts[order]\n",
        "\n",
        "def pie_plot(shots, counts):\n",
        "\n",
        "  fig, ax = plt.subplots()\n",
        "\n",
        "  # Pie with percentages\n",
        "  wedges, texts, autotexts = ax.pie(\n",
        "      counts,\n",
        "      autopct='%1.1f%%',\n",
        "      startangle=90\n",
        "  )\n",
        "\n",
        "  ax.axis('equal')\n",
        "  ax.set_title('Shots dataset')\n",
        "\n",
        "  # Legend on the side with \"label — count\"\n",
        "  legend_labels = [f\"{label} — {cnt}\" for label, cnt in zip(shots, counts)]\n",
        "  ax.legend(\n",
        "      wedges, legend_labels,\n",
        "      title=\"Shots (counts)\",\n",
        "      loc=\"center left\",\n",
        "      bbox_to_anchor=(1.02, 0.5),\n",
        "      frameon=False\n",
        "  )\n",
        "\n",
        "  plt.tight_layout()\n",
        "  plt.show()"
      ],
      "metadata": {
        "id": "JcAMQQRdr9iZ"
      },
      "id": "JcAMQQRdr9iZ",
      "execution_count": 11,
      "outputs": []
    },
    {
      "cell_type": "code",
      "source": [
        "pie_plot(shots, counts)"
      ],
      "metadata": {
        "colab": {
          "base_uri": "https://localhost:8080/",
          "height": 487
        },
        "id": "ojgx7Y5EC6Vt",
        "outputId": "c9b68e04-39a3-40f5-c278-b876fe120812"
      },
      "id": "ojgx7Y5EC6Vt",
      "execution_count": 14,
      "outputs": [
        {
          "output_type": "display_data",
          "data": {
            "text/plain": [
              "<Figure size 640x480 with 1 Axes>"
            ],
            "image/png": "[encoded data removed]"
          },
          "metadata": {}
        }
      ]
    },
    {
      "cell_type": "code",
      "source": [
        "# Take backhand occurences and cap all other classes to this value\n",
        "\n",
        "shots = np.unique(Y)\n",
        "cap = np.count_nonzero(Y == \"backhand\")\n",
        "\n",
        "rng = np.random.default_rng(42)\n",
        "subset_idx = []\n",
        "for s in shots:\n",
        "    idx = np.flatnonzero(Y == s)\n",
        "    take = min(cap, idx.size)\n",
        "    chosen = rng.choice(idx, size=take, replace=False)  # no duplicates\n",
        "    subset_idx.append(chosen)\n",
        "\n",
        "subset_idx = np.sort(np.concatenate(subset_idx))\n",
        "\n",
        "equalized_X = X[subset_idx]\n",
        "equalized_Y = Y[subset_idx]\n",
        "\n",
        "equalized_occurences = [np.count_nonzero(equalized_Y == shot) for shot in shots]"
      ],
      "metadata": {
        "id": "9hTFipVztO-T"
      },
      "id": "9hTFipVztO-T",
      "execution_count": 12,
      "outputs": []
    },
    {
      "cell_type": "code",
      "source": [
        "pie_plot(shots, equalized_occurences)"
      ],
      "metadata": {
        "colab": {
          "base_uri": "https://localhost:8080/",
          "height": 487
        },
        "id": "Ro7aUvefDZYU",
        "outputId": "873b11fe-df4d-4142-e724-569e4988b208"
      },
      "id": "Ro7aUvefDZYU",
      "execution_count": 13,
      "outputs": [
        {
          "output_type": "display_data",
          "data": {
            "text/plain": [
              "<Figure size 640x480 with 1 Axes>"
            ],
            "image/png": "[encoded data removed]"
          },
          "metadata": {}
        }
      ]
    },
    {
      "cell_type": "markdown",
      "source": [
        "# Data Splitting"
      ],
      "metadata": {
        "id": "UwlOPmbXuNw2"
      },
      "id": "UwlOPmbXuNw2"
    },
    {
      "cell_type": "code",
      "source": [
        "# Split the data\n",
        "X_train, X_val, y_train, y_val = train_test_split(equalized_X, equalized_Y, test_size=0.33, shuffle= False)\n",
        "\n",
        "\n",
        "\n",
        "print(f\"Shape of train features : {X_train[0].shape}\")\n",
        "print(f\"Shape of val features : {X_val[0].shape}\")\n",
        "\n",
        "\n",
        "print(\"Total categories: \", len(np.unique(y_train)))\n",
        "print(\"Total categories: \", len(np.unique(y_val)))\n",
        "\n",
        "nb_cat = len(np.unique(y_train))"
      ],
      "metadata": {
        "colab": {
          "base_uri": "https://localhost:8080/"
        },
        "id": "8lblA95JIX9R",
        "outputId": "05f996e2-a4e8-4838-ae21-1ee88abc743c"
      },
      "id": "8lblA95JIX9R",
      "execution_count": 15,
      "outputs": [
        {
          "output_type": "stream",
          "name": "stdout",
          "text": [
            "Shape of train features : (24,)\n",
            "Shape of val features : (24,)\n",
            "Total categories:  3\n",
            "Total categories:  3\n"
          ]
        }
      ]
    },
    {
      "cell_type": "code",
      "source": [
        "le = preprocessing.LabelEncoder()\n",
        "\n",
        "\n",
        "y_train = le.fit_transform(y_train)\n",
        "y_val = le.transform(y_val)\n",
        "y_test = le.transform(y_test)\n",
        "\n",
        "n_classes = len(le.classes_)\n",
        "\n",
        "y_train = tf.keras.utils.to_categorical(y_train,  num_classes=n_classes)\n",
        "y_val   = tf.keras.utils.to_categorical(y_val,    num_classes=n_classes)\n",
        "y_test  = tf.keras.utils.to_categorical(y_test,   num_classes=n_classes)\n",
        "\n",
        "y_train = np.array(y_train)\n",
        "X_train = np.array(X_train)\n",
        "\n",
        "y_val = np.array(y_val)\n",
        "X_val = np.array(X_val)\n",
        "\n",
        "y_test = np.array(y_test)\n",
        "X_test = np.array(X_test)"
      ],
      "metadata": {
        "id": "UEFQdr9RI5hk"
      },
      "id": "UEFQdr9RI5hk",
      "execution_count": 16,
      "outputs": []
    },
    {
      "cell_type": "code",
      "source": [
        "print(list(le.classes_))"
      ],
      "metadata": {
        "colab": {
          "base_uri": "https://localhost:8080/"
        },
        "id": "sxgFMXAQJWd8",
        "outputId": "993f778a-bbce-4b1c-e71d-290151e9ca8d"
      },
      "id": "sxgFMXAQJWd8",
      "execution_count": 17,
      "outputs": [
        {
          "output_type": "stream",
          "name": "stdout",
          "text": [
            "[np.str_('backhand'), np.str_('forehand'), np.str_('neutral')]\n"
          ]
        }
      ]
    },
    {
      "cell_type": "code",
      "source": [
        "print(\"X_train Shape: \", X_train.shape)\n",
        "print(\"X_val Shape: \", X_val.shape)\n",
        "print(\"X_test Shape: \", X_test.shape)\n",
        "print(\"y_train Shape: \", y_train.shape)\n",
        "print(\"y_val Shape: \", y_val.shape)\n",
        "print(\"y_test Shape: \", y_test.shape)"
      ],
      "metadata": {
        "colab": {
          "base_uri": "https://localhost:8080/"
        },
        "id": "UMLJ9WR4JdeL",
        "outputId": "d3f835e1-a8a4-4e29-c246-51a83be6ea7e"
      },
      "id": "UMLJ9WR4JdeL",
      "execution_count": 18,
      "outputs": [
        {
          "output_type": "stream",
          "name": "stdout",
          "text": [
            "X_train Shape:  (723, 24)\n",
            "X_val Shape:  (357, 24)\n",
            "X_test Shape:  (980, 24)\n",
            "y_train Shape:  (723, 3)\n",
            "y_val Shape:  (357, 3)\n",
            "y_test Shape:  (980, 3)\n"
          ]
        }
      ]
    },
    {
      "cell_type": "markdown",
      "source": [
        "# Model"
      ],
      "metadata": {
        "id": "fDk2DUN_uFUt"
      },
      "id": "fDk2DUN_uFUt"
    },
    {
      "cell_type": "code",
      "source": [
        "def brnn_tanh(units, name, rnn_type=\"simple\", dropout=0.0, return_sequences=True):\n",
        "  if rnn_type == \"simple\":\n",
        "    rnn = layers.SimpleRNN(units, activation='tanh', return_sequences=return_sequences, dropout=dropout)\n",
        "\n",
        "  elif rnn_type == \"gru\":\n",
        "    rnn = layers.GRU(units, activation='tanh', return_sequences=return_sequences, dropout=dropout)\n",
        "\n",
        "  return layers.Bidirectional(rnn, name=name)"
      ],
      "metadata": {
        "id": "B32xJh-d5sJk"
      },
      "id": "B32xJh-d5sJk",
      "execution_count": 19,
      "outputs": []
    },
    {
      "cell_type": "code",
      "source": [
        "def  bidirectional_lstm(units, name, dropout=0.0, return_sequences=False):\n",
        "  lstm = layers.LSTM(units, return_sequences=return_sequences, dropout=dropout)\n",
        "  return layers.Bidirectional(lstm, name=name)"
      ],
      "metadata": {
        "id": "7WQIyY-K77D1"
      },
      "id": "7WQIyY-K77D1",
      "execution_count": 20,
      "outputs": []
    },
    {
      "cell_type": "code",
      "source": [
        "def create_network(\n",
        "    T=30,\n",
        "    shape_left_arm=6,\n",
        "    shape_right_arm=6,\n",
        "    shape_left_leg=6,\n",
        "    shape_right_leg=6,\n",
        "    shape_trunk=8,\n",
        "    n_classes=3,\n",
        "    brnn_units=(64, 96, 128),\n",
        "    lstm_units=256,\n",
        "    rnn_type=\"simple\",\n",
        "    dropout=0.1\n",
        "):\n",
        "\n",
        "  # ==== Inputs ====\n",
        "\n",
        "  in_left_arm  = Input(shape=(T, shape_left_arm),  name = \"left_arm\")\n",
        "  in_right_arm = Input(shape=(T, shape_right_arm), name = \"right_arm\")\n",
        "  in_left_leg  = Input(shape=(T, shape_left_leg),  name = \"left_leg\")\n",
        "  in_right_leg = Input(shape=(T, shape_right_leg), name = \"right_leg\")\n",
        "  in_trunk     = Input(shape=(T, shape_trunk),     name = \"trunk\")\n",
        "\n",
        "  # ==== bl1 layer ====\n",
        "\n",
        "  bl1_left_arm  =  brnn_tanh(brnn_units[0], \"bl1_left_arm\",   rnn_type, dropout)  (in_left_arm)\n",
        "  bl1_right_arm =  brnn_tanh(brnn_units[0], \"bl1_right_arm\",  rnn_type, dropout)  (in_right_arm)\n",
        "  bl1_trunk     =  brnn_tanh(brnn_units[0], \"bl1_trunk\",      rnn_type, dropout)  (in_trunk)\n",
        "  bl1_left_leg  =  brnn_tanh(brnn_units[0], \"bl1_left_leg\",   rnn_type, dropout)  (in_left_leg)\n",
        "  bl1_right_leg =  brnn_tanh(brnn_units[0], \"bl1_right_leg\",  rnn_type, dropout)  (in_right_leg)\n",
        "\n",
        "  # ==== fl1 layer ====\n",
        "\n",
        "  fl1_leftArm_trunk   = layers.Concatenate(name=\"fl1_leftArm_trunk\")  ([bl1_left_arm,   bl1_trunk])\n",
        "  fl1_rightArm_trunk  = layers.Concatenate(name=\"fl1_rightArm_trunk\") ([bl1_right_arm,  bl1_trunk])\n",
        "  fl1_leftLeg_trunk   = layers.Concatenate(name=\"fl1_lafetLeg_trunk\") ([bl1_left_leg,   bl1_trunk])\n",
        "  fl1_rightLeg_trunk  = layers.Concatenate(name=\"fl1_rightLeg_trunk\") ([bl1_right_leg,  bl1_trunk])\n",
        "\n",
        "  # ==== bl2 layer ====\n",
        "\n",
        "  bl2_leftArm_trunk   = brnn_tanh(brnn_units[1], \"bl2_leftArm_trunk\",   rnn_type, dropout)  (fl1_leftArm_trunk)\n",
        "  bl2_rightArm_trunk  = brnn_tanh(brnn_units[1], \"bl2_rightArm_trunk\",  rnn_type, dropout)  (fl1_rightArm_trunk)\n",
        "  bl2_leftLeg_trunk   = brnn_tanh(brnn_units[1], \"bl2_leftLeg_trunk\",   rnn_type, dropout)  (fl1_leftLeg_trunk)\n",
        "  bl2_rightLeg_trunk  = brnn_tanh(brnn_units[1], \"bl2_rightLeg_trunk\",  rnn_type, dropout)  (fl1_rightLeg_trunk)\n",
        "\n",
        "  # ==== fl2 layer ====\n",
        "\n",
        "  fl2_upperBody = layers.Concatenate(name=\"fl2_upperBody\")  ([bl2_leftArm_trunk,  bl2_rightArm_trunk])\n",
        "  fl2_lowerBody = layers.Concatenate(name=\"fl2_lowerBody\")  ([bl2_leftLeg_trunk,  bl2_rightLeg_trunk])\n",
        "\n",
        "  # ==== bl3 layer ====\n",
        "\n",
        "  bl3_upperBody = brnn_tanh(brnn_units[2], \"bl3_upperBody\", rnn_type, dropout)  (fl2_upperBody)\n",
        "  bl3_lowerBody = brnn_tanh(brnn_units[2], \"bl3_lowerBody\", rnn_type, dropout)  (fl2_lowerBody)\n",
        "\n",
        "  # ==== fl3 layer ====\n",
        "\n",
        "  fl3_wholeBody = layers.Concatenate(name=\"fl3_wholeBody\") ([bl3_upperBody, bl3_lowerBody])\n",
        "\n",
        "  # ==== bl4 layer ====\n",
        "\n",
        "  bl4 = bidirectional_lstm(lstm_units, \"bl4\", dropout, return_sequences=False) (fl3_wholeBody)\n",
        "\n",
        "  # ==== fully connected layer ====\n",
        "\n",
        "  fc = layers.Dense(256, activation='relu', name=\"fc\")(bl4)\n",
        "  fc = layers.Dropout(0.3)(fc)\n",
        "\n",
        "  # ==== softmax layer ====\n",
        "\n",
        "  sl = layers.Dense(n_classes, activation=\"softmax\", name=\"sl\")(fc)\n",
        "\n",
        "  model = models.Model(\n",
        "      inputs=[in_left_arm, in_right_arm, in_trunk, in_left_leg, in_right_leg],\n",
        "      outputs= sl,\n",
        "      )\n",
        "\n",
        "  return model"
      ],
      "metadata": {
        "id": "y0Sl1tdPu1iL"
      },
      "id": "y0Sl1tdPu1iL",
      "execution_count": 25,
      "outputs": []
    },
    {
      "cell_type": "code",
      "source": [
        "model = create_network(\n",
        "    T=30,\n",
        "    shape_left_arm=6,\n",
        "    shape_right_arm=6,\n",
        "    shape_left_leg=6,\n",
        "    shape_right_leg=6,\n",
        "    shape_trunk=8,\n",
        "    n_classes=3,\n",
        "    brnn_units=(64, 96, 128),\n",
        "    lstm_units=256,\n",
        "    rnn_type=\"simple\",\n",
        "    dropout=0.1\n",
        ")\n",
        "\n",
        "model.summary()"
      ],
      "metadata": {
        "id": "WeDJAYvOD7H-",
        "outputId": "0778c498-14a3-4731-8681-441b8b434c2e",
        "colab": {
          "base_uri": "https://localhost:8080/",
          "height": 1000
        }
      },
      "id": "WeDJAYvOD7H-",
      "execution_count": 27,
      "outputs": [
        {
          "output_type": "display_data",
          "data": {
            "text/plain": [
              "\u001b[1mModel: \"functional_1\"\u001b[0m\n"
            ],
            "text/html": [
              "<pre style=\"white-space:pre;overflow-x:auto;line-height:normal;font-family:Menlo,'DejaVu Sans Mono',consolas,'Courier New',monospace\"><span style=\"font-weight: bold\">Model: \"functional_1\"</span>\n",
              "</pre>\n"
            ]
          },
          "metadata": {}
        },
        {
          "output_type": "display_data",
          "data": {
            "text/plain": [
              "┏━━━━━━━━━━━━━━━━━━━━━┳━━━━━━━━━━━━━━━━━━━┳━━━━━━━━━━━━┳━━━━━━━━━━━━━━━━━━━┓\n",
              "┃\u001b[1m \u001b[0m\u001b[1mLayer (type)       \u001b[0m\u001b[1m \u001b[0m┃\u001b[1m \u001b[0m\u001b[1mOutput Shape     \u001b[0m\u001b[1m \u001b[0m┃\u001b[1m \u001b[0m\u001b[1m   Param #\u001b[0m\u001b[1m \u001b[0m┃\u001b[1m \u001b[0m\u001b[1mConnected to     \u001b[0m\u001b[1m \u001b[0m┃\n",
              "┡━━━━━━━━━━━━━━━━━━━━━╇━━━━━━━━━━━━━━━━━━━╇━━━━━━━━━━━━╇━━━━━━━━━━━━━━━━━━━┩\n",
              "│ left_arm            │ (\u001b[38;5;45mNone\u001b[0m, \u001b[38;5;34m30\u001b[0m, \u001b[38;5;34m6\u001b[0m)     │          \u001b[38;5;34m0\u001b[0m │ -                 │\n",
              "│ (\u001b[38;5;33mInputLayer\u001b[0m)        │                   │            │                   │\n",
              "├─────────────────────┼───────────────────┼────────────┼───────────────────┤\n",
              "│ trunk (\u001b[38;5;33mInputLayer\u001b[0m)  │ (\u001b[38;5;45mNone\u001b[0m, \u001b[38;5;34m30\u001b[0m, \u001b[38;5;34m8\u001b[0m)     │          \u001b[38;5;34m0\u001b[0m │ -                 │\n",
              "├─────────────────────┼───────────────────┼────────────┼───────────────────┤\n",
              "│ right_arm           │ (\u001b[38;5;45mNone\u001b[0m, \u001b[38;5;34m30\u001b[0m, \u001b[38;5;34m6\u001b[0m)     │          \u001b[38;5;34m0\u001b[0m │ -                 │\n",
              "│ (\u001b[38;5;33mInputLayer\u001b[0m)        │                   │            │                   │\n",
              "├─────────────────────┼───────────────────┼────────────┼───────────────────┤\n",
              "│ left_leg            │ (\u001b[38;5;45mNone\u001b[0m, \u001b[38;5;34m30\u001b[0m, \u001b[38;5;34m6\u001b[0m)     │          \u001b[38;5;34m0\u001b[0m │ -                 │\n",
              "│ (\u001b[38;5;33mInputLayer\u001b[0m)        │                   │            │                   │\n",
              "├─────────────────────┼───────────────────┼────────────┼───────────────────┤\n",
              "│ right_leg           │ (\u001b[38;5;45mNone\u001b[0m, \u001b[38;5;34m30\u001b[0m, \u001b[38;5;34m6\u001b[0m)     │          \u001b[38;5;34m0\u001b[0m │ -                 │\n",
              "│ (\u001b[38;5;33mInputLayer\u001b[0m)        │                   │            │                   │\n",
              "├─────────────────────┼───────────────────┼────────────┼───────────────────┤\n",
              "│ bl1_left_arm        │ (\u001b[38;5;45mNone\u001b[0m, \u001b[38;5;34m30\u001b[0m, \u001b[38;5;34m128\u001b[0m)   │      \u001b[38;5;34m9,088\u001b[0m │ left_arm[\u001b[38;5;34m0\u001b[0m][\u001b[38;5;34m0\u001b[0m]    │\n",
              "│ (\u001b[38;5;33mBidirectional\u001b[0m)     │                   │            │                   │\n",
              "├─────────────────────┼───────────────────┼────────────┼───────────────────┤\n",
              "│ bl1_trunk           │ (\u001b[38;5;45mNone\u001b[0m, \u001b[38;5;34m30\u001b[0m, \u001b[38;5;34m128\u001b[0m)   │      \u001b[38;5;34m9,344\u001b[0m │ trunk[\u001b[38;5;34m0\u001b[0m][\u001b[38;5;34m0\u001b[0m]       │\n",
              "│ (\u001b[38;5;33mBidirectional\u001b[0m)     │                   │            │                   │\n",
              "├─────────────────────┼───────────────────┼────────────┼───────────────────┤\n",
              "│ bl1_right_arm       │ (\u001b[38;5;45mNone\u001b[0m, \u001b[38;5;34m30\u001b[0m, \u001b[38;5;34m128\u001b[0m)   │      \u001b[38;5;34m9,088\u001b[0m │ right_arm[\u001b[38;5;34m0\u001b[0m][\u001b[38;5;34m0\u001b[0m]   │\n",
              "│ (\u001b[38;5;33mBidirectional\u001b[0m)     │                   │            │                   │\n",
              "├─────────────────────┼───────────────────┼────────────┼───────────────────┤\n",
              "│ bl1_left_leg        │ (\u001b[38;5;45mNone\u001b[0m, \u001b[38;5;34m30\u001b[0m, \u001b[38;5;34m128\u001b[0m)   │      \u001b[38;5;34m9,088\u001b[0m │ left_leg[\u001b[38;5;34m0\u001b[0m][\u001b[38;5;34m0\u001b[0m]    │\n",
              "│ (\u001b[38;5;33mBidirectional\u001b[0m)     │                   │            │                   │\n",
              "├─────────────────────┼───────────────────┼────────────┼───────────────────┤\n",
              "│ bl1_right_leg       │ (\u001b[38;5;45mNone\u001b[0m, \u001b[38;5;34m30\u001b[0m, \u001b[38;5;34m128\u001b[0m)   │      \u001b[38;5;34m9,088\u001b[0m │ right_leg[\u001b[38;5;34m0\u001b[0m][\u001b[38;5;34m0\u001b[0m]   │\n",
              "│ (\u001b[38;5;33mBidirectional\u001b[0m)     │                   │            │                   │\n",
              "├─────────────────────┼───────────────────┼────────────┼───────────────────┤\n",
              "│ fl1_leftArm_trunk   │ (\u001b[38;5;45mNone\u001b[0m, \u001b[38;5;34m30\u001b[0m, \u001b[38;5;34m256\u001b[0m)   │          \u001b[38;5;34m0\u001b[0m │ bl1_left_arm[\u001b[38;5;34m0\u001b[0m][\u001b[38;5;34m…\u001b[0m │\n",
              "│ (\u001b[38;5;33mConcatenate\u001b[0m)       │                   │            │ bl1_trunk[\u001b[38;5;34m0\u001b[0m][\u001b[38;5;34m0\u001b[0m]   │\n",
              "├─────────────────────┼───────────────────┼────────────┼───────────────────┤\n",
              "│ fl1_rightArm_trunk  │ (\u001b[38;5;45mNone\u001b[0m, \u001b[38;5;34m30\u001b[0m, \u001b[38;5;34m256\u001b[0m)   │          \u001b[38;5;34m0\u001b[0m │ bl1_right_arm[\u001b[38;5;34m0\u001b[0m]… │\n",
              "│ (\u001b[38;5;33mConcatenate\u001b[0m)       │                   │            │ bl1_trunk[\u001b[38;5;34m0\u001b[0m][\u001b[38;5;34m0\u001b[0m]   │\n",
              "├─────────────────────┼───────────────────┼────────────┼───────────────────┤\n",
              "│ fl1_lafetLeg_trunk  │ (\u001b[38;5;45mNone\u001b[0m, \u001b[38;5;34m30\u001b[0m, \u001b[38;5;34m256\u001b[0m)   │          \u001b[38;5;34m0\u001b[0m │ bl1_left_leg[\u001b[38;5;34m0\u001b[0m][\u001b[38;5;34m…\u001b[0m │\n",
              "│ (\u001b[38;5;33mConcatenate\u001b[0m)       │                   │            │ bl1_trunk[\u001b[38;5;34m0\u001b[0m][\u001b[38;5;34m0\u001b[0m]   │\n",
              "├─────────────────────┼───────────────────┼────────────┼───────────────────┤\n",
              "│ fl1_rightLeg_trunk  │ (\u001b[38;5;45mNone\u001b[0m, \u001b[38;5;34m30\u001b[0m, \u001b[38;5;34m256\u001b[0m)   │          \u001b[38;5;34m0\u001b[0m │ bl1_right_leg[\u001b[38;5;34m0\u001b[0m]… │\n",
              "│ (\u001b[38;5;33mConcatenate\u001b[0m)       │                   │            │ bl1_trunk[\u001b[38;5;34m0\u001b[0m][\u001b[38;5;34m0\u001b[0m]   │\n",
              "├─────────────────────┼───────────────────┼────────────┼───────────────────┤\n",
              "│ bl2_leftArm_trunk   │ (\u001b[38;5;45mNone\u001b[0m, \u001b[38;5;34m30\u001b[0m, \u001b[38;5;34m192\u001b[0m)   │     \u001b[38;5;34m67,776\u001b[0m │ fl1_leftArm_trun… │\n",
              "│ (\u001b[38;5;33mBidirectional\u001b[0m)     │                   │            │                   │\n",
              "├─────────────────────┼───────────────────┼────────────┼───────────────────┤\n",
              "│ bl2_rightArm_trunk  │ (\u001b[38;5;45mNone\u001b[0m, \u001b[38;5;34m30\u001b[0m, \u001b[38;5;34m192\u001b[0m)   │     \u001b[38;5;34m67,776\u001b[0m │ fl1_rightArm_tru… │\n",
              "│ (\u001b[38;5;33mBidirectional\u001b[0m)     │                   │            │                   │\n",
              "├─────────────────────┼───────────────────┼────────────┼───────────────────┤\n",
              "│ bl2_leftLeg_trunk   │ (\u001b[38;5;45mNone\u001b[0m, \u001b[38;5;34m30\u001b[0m, \u001b[38;5;34m192\u001b[0m)   │     \u001b[38;5;34m67,776\u001b[0m │ fl1_lafetLeg_tru… │\n",
              "│ (\u001b[38;5;33mBidirectional\u001b[0m)     │                   │            │                   │\n",
              "├─────────────────────┼───────────────────┼────────────┼───────────────────┤\n",
              "│ bl2_rightLeg_trunk  │ (\u001b[38;5;45mNone\u001b[0m, \u001b[38;5;34m30\u001b[0m, \u001b[38;5;34m192\u001b[0m)   │     \u001b[38;5;34m67,776\u001b[0m │ fl1_rightLeg_tru… │\n",
              "│ (\u001b[38;5;33mBidirectional\u001b[0m)     │                   │            │                   │\n",
              "├─────────────────────┼───────────────────┼────────────┼───────────────────┤\n",
              "│ fl2_upperBody       │ (\u001b[38;5;45mNone\u001b[0m, \u001b[38;5;34m30\u001b[0m, \u001b[38;5;34m384\u001b[0m)   │          \u001b[38;5;34m0\u001b[0m │ bl2_leftArm_trun… │\n",
              "│ (\u001b[38;5;33mConcatenate\u001b[0m)       │                   │            │ bl2_rightArm_tru… │\n",
              "├─────────────────────┼───────────────────┼────────────┼───────────────────┤\n",
              "│ fl2_lowerBody       │ (\u001b[38;5;45mNone\u001b[0m, \u001b[38;5;34m30\u001b[0m, \u001b[38;5;34m384\u001b[0m)   │          \u001b[38;5;34m0\u001b[0m │ bl2_leftLeg_trun… │\n",
              "│ (\u001b[38;5;33mConcatenate\u001b[0m)       │                   │            │ bl2_rightLeg_tru… │\n",
              "├─────────────────────┼───────────────────┼────────────┼───────────────────┤\n",
              "│ bl3_upperBody       │ (\u001b[38;5;45mNone\u001b[0m, \u001b[38;5;34m30\u001b[0m, \u001b[38;5;34m256\u001b[0m)   │    \u001b[38;5;34m131,328\u001b[0m │ fl2_upperBody[\u001b[38;5;34m0\u001b[0m]… │\n",
              "│ (\u001b[38;5;33mBidirectional\u001b[0m)     │                   │            │                   │\n",
              "├─────────────────────┼───────────────────┼────────────┼───────────────────┤\n",
              "│ bl3_lowerBody       │ (\u001b[38;5;45mNone\u001b[0m, \u001b[38;5;34m30\u001b[0m, \u001b[38;5;34m256\u001b[0m)   │    \u001b[38;5;34m131,328\u001b[0m │ fl2_lowerBody[\u001b[38;5;34m0\u001b[0m]… │\n",
              "│ (\u001b[38;5;33mBidirectional\u001b[0m)     │                   │            │                   │\n",
              "├─────────────────────┼───────────────────┼────────────┼───────────────────┤\n",
              "│ fl3_wholeBody       │ (\u001b[38;5;45mNone\u001b[0m, \u001b[38;5;34m30\u001b[0m, \u001b[38;5;34m512\u001b[0m)   │          \u001b[38;5;34m0\u001b[0m │ bl3_upperBody[\u001b[38;5;34m0\u001b[0m]… │\n",
              "│ (\u001b[38;5;33mConcatenate\u001b[0m)       │                   │            │ bl3_lowerBody[\u001b[38;5;34m0\u001b[0m]… │\n",
              "├─────────────────────┼───────────────────┼────────────┼───────────────────┤\n",
              "│ bl4 (\u001b[38;5;33mBidirectional\u001b[0m) │ (\u001b[38;5;45mNone\u001b[0m, \u001b[38;5;34m512\u001b[0m)       │  \u001b[38;5;34m1,574,912\u001b[0m │ fl3_wholeBody[\u001b[38;5;34m0\u001b[0m]… │\n",
              "├─────────────────────┼───────────────────┼────────────┼───────────────────┤\n",
              "│ fc (\u001b[38;5;33mDense\u001b[0m)          │ (\u001b[38;5;45mNone\u001b[0m, \u001b[38;5;34m256\u001b[0m)       │    \u001b[38;5;34m131,328\u001b[0m │ bl4[\u001b[38;5;34m0\u001b[0m][\u001b[38;5;34m0\u001b[0m]         │\n",
              "├─────────────────────┼───────────────────┼────────────┼───────────────────┤\n",
              "│ dropout_2 (\u001b[38;5;33mDropout\u001b[0m) │ (\u001b[38;5;45mNone\u001b[0m, \u001b[38;5;34m256\u001b[0m)       │          \u001b[38;5;34m0\u001b[0m │ fc[\u001b[38;5;34m0\u001b[0m][\u001b[38;5;34m0\u001b[0m]          │\n",
              "├─────────────────────┼───────────────────┼────────────┼───────────────────┤\n",
              "│ sl (\u001b[38;5;33mDense\u001b[0m)          │ (\u001b[38;5;45mNone\u001b[0m, \u001b[38;5;34m3\u001b[0m)         │        \u001b[38;5;34m771\u001b[0m │ dropout_2[\u001b[38;5;34m0\u001b[0m][\u001b[38;5;34m0\u001b[0m]   │\n",
              "└─────────────────────┴───────────────────┴────────────┴───────────────────┘\n"
            ],
            "text/html": [
              "<pre style=\"white-space:pre;overflow-x:auto;line-height:normal;font-family:Menlo,'DejaVu Sans Mono',consolas,'Courier New',monospace\">┏━━━━━━━━━━━━━━━━━━━━━┳━━━━━━━━━━━━━━━━━━━┳━━━━━━━━━━━━┳━━━━━━━━━━━━━━━━━━━┓\n",
              "┃<span style=\"font-weight: bold\"> Layer (type)        </span>┃<span style=\"font-weight: bold\"> Output Shape      </span>┃<span style=\"font-weight: bold\">    Param # </span>┃<span style=\"font-weight: bold\"> Connected to      </span>┃\n",
              "┡━━━━━━━━━━━━━━━━━━━━━╇━━━━━━━━━━━━━━━━━━━╇━━━━━━━━━━━━╇━━━━━━━━━━━━━━━━━━━┩\n",
              "│ left_arm            │ (<span style=\"color: #00d7ff; text-decoration-color: #00d7ff\">None</span>, <span style=\"color: #00af00; text-decoration-color: #00af00\">30</span>, <span style=\"color: #00af00; text-decoration-color: #00af00\">6</span>)     │          <span style=\"color: #00af00; text-decoration-color: #00af00\">0</span> │ -                 │\n",
              "│ (<span style=\"color: #0087ff; text-decoration-color: #0087ff\">InputLayer</span>)        │                   │            │                   │\n",
              "├─────────────────────┼───────────────────┼────────────┼───────────────────┤\n",
              "│ trunk (<span style=\"color: #0087ff; text-decoration-color: #0087ff\">InputLayer</span>)  │ (<span style=\"color: #00d7ff; text-decoration-color: #00d7ff\">None</span>, <span style=\"color: #00af00; text-decoration-color: #00af00\">30</span>, <span style=\"color: #00af00; text-decoration-color: #00af00\">8</span>)     │          <span style=\"color: #00af00; text-decoration-color: #00af00\">0</span> │ -                 │\n",
              "├─────────────────────┼───────────────────┼────────────┼───────────────────┤\n",
              "│ right_arm           │ (<span style=\"color: #00d7ff; text-decoration-color: #00d7ff\">None</span>, <span style=\"color: #00af00; text-decoration-color: #00af00\">30</span>, <span style=\"color: #00af00; text-decoration-color: #00af00\">6</span>)     │          <span style=\"color: #00af00; text-decoration-color: #00af00\">0</span> │ -                 │\n",
              "│ (<span style=\"color: #0087ff; text-decoration-color: #0087ff\">InputLayer</span>)        │                   │            │                   │\n",
              "├─────────────────────┼───────────────────┼────────────┼───────────────────┤\n",
              "│ left_leg            │ (<span style=\"color: #00d7ff; text-decoration-color: #00d7ff\">None</span>, <span style=\"color: #00af00; text-decoration-color: #00af00\">30</span>, <span style=\"color: #00af00; text-decoration-color: #00af00\">6</span>)     │          <span style=\"color: #00af00; text-decoration-color: #00af00\">0</span> │ -                 │\n",
              "│ (<span style=\"color: #0087ff; text-decoration-color: #0087ff\">InputLayer</span>)        │                   │            │                   │\n",
              "├─────────────────────┼───────────────────┼────────────┼───────────────────┤\n",
              "│ right_leg           │ (<span style=\"color: #00d7ff; text-decoration-color: #00d7ff\">None</span>, <span style=\"color: #00af00; text-decoration-color: #00af00\">30</span>, <span style=\"color: #00af00; text-decoration-color: #00af00\">6</span>)     │          <span style=\"color: #00af00; text-decoration-color: #00af00\">0</span> │ -                 │\n",
              "│ (<span style=\"color: #0087ff; text-decoration-color: #0087ff\">InputLayer</span>)        │                   │            │                   │\n",
              "├─────────────────────┼───────────────────┼────────────┼───────────────────┤\n",
              "│ bl1_left_arm        │ (<span style=\"color: #00d7ff; text-decoration-color: #00d7ff\">None</span>, <span style=\"color: #00af00; text-decoration-color: #00af00\">30</span>, <span style=\"color: #00af00; text-decoration-color: #00af00\">128</span>)   │      <span style=\"color: #00af00; text-decoration-color: #00af00\">9,088</span> │ left_arm[<span style=\"color: #00af00; text-decoration-color: #00af00\">0</span>][<span style=\"color: #00af00; text-decoration-color: #00af00\">0</span>]    │\n",
              "│ (<span style=\"color: #0087ff; text-decoration-color: #0087ff\">Bidirectional</span>)     │                   │            │                   │\n",
              "├─────────────────────┼───────────────────┼────────────┼───────────────────┤\n",
              "│ bl1_trunk           │ (<span style=\"color: #00d7ff; text-decoration-color: #00d7ff\">None</span>, <span style=\"color: #00af00; text-decoration-color: #00af00\">30</span>, <span style=\"color: #00af00; text-decoration-color: #00af00\">128</span>)   │      <span style=\"color: #00af00; text-decoration-color: #00af00\">9,344</span> │ trunk[<span style=\"color: #00af00; text-decoration-color: #00af00\">0</span>][<span style=\"color: #00af00; text-decoration-color: #00af00\">0</span>]       │\n",
              "│ (<span style=\"color: #0087ff; text-decoration-color: #0087ff\">Bidirectional</span>)     │                   │            │                   │\n",
              "├─────────────────────┼───────────────────┼────────────┼───────────────────┤\n",
              "│ bl1_right_arm       │ (<span style=\"color: #00d7ff; text-decoration-color: #00d7ff\">None</span>, <span style=\"color: #00af00; text-decoration-color: #00af00\">30</span>, <span style=\"color: #00af00; text-decoration-color: #00af00\">128</span>)   │      <span style=\"color: #00af00; text-decoration-color: #00af00\">9,088</span> │ right_arm[<span style=\"color: #00af00; text-decoration-color: #00af00\">0</span>][<span style=\"color: #00af00; text-decoration-color: #00af00\">0</span>]   │\n",
              "│ (<span style=\"color: #0087ff; text-decoration-color: #0087ff\">Bidirectional</span>)     │                   │            │                   │\n",
              "├─────────────────────┼───────────────────┼────────────┼───────────────────┤\n",
              "│ bl1_left_leg        │ (<span style=\"color: #00d7ff; text-decoration-color: #00d7ff\">None</span>, <span style=\"color: #00af00; text-decoration-color: #00af00\">30</span>, <span style=\"color: #00af00; text-decoration-color: #00af00\">128</span>)   │      <span style=\"color: #00af00; text-decoration-color: #00af00\">9,088</span> │ left_leg[<span style=\"color: #00af00; text-decoration-color: #00af00\">0</span>][<span style=\"color: #00af00; text-decoration-color: #00af00\">0</span>]    │\n",
              "│ (<span style=\"color: #0087ff; text-decoration-color: #0087ff\">Bidirectional</span>)     │                   │            │                   │\n",
              "├─────────────────────┼───────────────────┼────────────┼───────────────────┤\n",
              "│ bl1_right_leg       │ (<span style=\"color: #00d7ff; text-decoration-color: #00d7ff\">None</span>, <span style=\"color: #00af00; text-decoration-color: #00af00\">30</span>, <span style=\"color: #00af00; text-decoration-color: #00af00\">128</span>)   │      <span style=\"color: #00af00; text-decoration-color: #00af00\">9,088</span> │ right_leg[<span style=\"color: #00af00; text-decoration-color: #00af00\">0</span>][<span style=\"color: #00af00; text-decoration-color: #00af00\">0</span>]   │\n",
              "│ (<span style=\"color: #0087ff; text-decoration-color: #0087ff\">Bidirectional</span>)     │                   │            │                   │\n",
              "├─────────────────────┼───────────────────┼────────────┼───────────────────┤\n",
              "│ fl1_leftArm_trunk   │ (<span style=\"color: #00d7ff; text-decoration-color: #00d7ff\">None</span>, <span style=\"color: #00af00; text-decoration-color: #00af00\">30</span>, <span style=\"color: #00af00; text-decoration-color: #00af00\">256</span>)   │          <span style=\"color: #00af00; text-decoration-color: #00af00\">0</span> │ bl1_left_arm[<span style=\"color: #00af00; text-decoration-color: #00af00\">0</span>][<span style=\"color: #00af00; text-decoration-color: #00af00\">…</span> │\n",
              "│ (<span style=\"color: #0087ff; text-decoration-color: #0087ff\">Concatenate</span>)       │                   │            │ bl1_trunk[<span style=\"color: #00af00; text-decoration-color: #00af00\">0</span>][<span style=\"color: #00af00; text-decoration-color: #00af00\">0</span>]   │\n",
              "├─────────────────────┼───────────────────┼────────────┼───────────────────┤\n",
              "│ fl1_rightArm_trunk  │ (<span style=\"color: #00d7ff; text-decoration-color: #00d7ff\">None</span>, <span style=\"color: #00af00; text-decoration-color: #00af00\">30</span>, <span style=\"color: #00af00; text-decoration-color: #00af00\">256</span>)   │          <span style=\"color: #00af00; text-decoration-color: #00af00\">0</span> │ bl1_right_arm[<span style=\"color: #00af00; text-decoration-color: #00af00\">0</span>]… │\n",
              "│ (<span style=\"color: #0087ff; text-decoration-color: #0087ff\">Concatenate</span>)       │                   │            │ bl1_trunk[<span style=\"color: #00af00; text-decoration-color: #00af00\">0</span>][<span style=\"color: #00af00; text-decoration-color: #00af00\">0</span>]   │\n",
              "├─────────────────────┼───────────────────┼────────────┼───────────────────┤\n",
              "│ fl1_lafetLeg_trunk  │ (<span style=\"color: #00d7ff; text-decoration-color: #00d7ff\">None</span>, <span style=\"color: #00af00; text-decoration-color: #00af00\">30</span>, <span style=\"color: #00af00; text-decoration-color: #00af00\">256</span>)   │          <span style=\"color: #00af00; text-decoration-color: #00af00\">0</span> │ bl1_left_leg[<span style=\"color: #00af00; text-decoration-color: #00af00\">0</span>][<span style=\"color: #00af00; text-decoration-color: #00af00\">…</span> │\n",
              "│ (<span style=\"color: #0087ff; text-decoration-color: #0087ff\">Concatenate</span>)       │                   │            │ bl1_trunk[<span style=\"color: #00af00; text-decoration-color: #00af00\">0</span>][<span style=\"color: #00af00; text-decoration-color: #00af00\">0</span>]   │\n",
              "├─────────────────────┼───────────────────┼────────────┼───────────────────┤\n",
              "│ fl1_rightLeg_trunk  │ (<span style=\"color: #00d7ff; text-decoration-color: #00d7ff\">None</span>, <span style=\"color: #00af00; text-decoration-color: #00af00\">30</span>, <span style=\"color: #00af00; text-decoration-color: #00af00\">256</span>)   │          <span style=\"color: #00af00; text-decoration-color: #00af00\">0</span> │ bl1_right_leg[<span style=\"color: #00af00; text-decoration-color: #00af00\">0</span>]… │\n",
              "│ (<span style=\"color: #0087ff; text-decoration-color: #0087ff\">Concatenate</span>)       │                   │            │ bl1_trunk[<span style=\"color: #00af00; text-decoration-color: #00af00\">0</span>][<span style=\"color: #00af00; text-decoration-color: #00af00\">0</span>]   │\n",
              "├─────────────────────┼───────────────────┼────────────┼───────────────────┤\n",
              "│ bl2_leftArm_trunk   │ (<span style=\"color: #00d7ff; text-decoration-color: #00d7ff\">None</span>, <span style=\"color: #00af00; text-decoration-color: #00af00\">30</span>, <span style=\"color: #00af00; text-decoration-color: #00af00\">192</span>)   │     <span style=\"color: #00af00; text-decoration-color: #00af00\">67,776</span> │ fl1_leftArm_trun… │\n",
              "│ (<span style=\"color: #0087ff; text-decoration-color: #0087ff\">Bidirectional</span>)     │                   │            │                   │\n",
              "├─────────────────────┼───────────────────┼────────────┼───────────────────┤\n",
              "│ bl2_rightArm_trunk  │ (<span style=\"color: #00d7ff; text-decoration-color: #00d7ff\">None</span>, <span style=\"color: #00af00; text-decoration-color: #00af00\">30</span>, <span style=\"color: #00af00; text-decoration-color: #00af00\">192</span>)   │     <span style=\"color: #00af00; text-decoration-color: #00af00\">67,776</span> │ fl1_rightArm_tru… │\n",
              "│ (<span style=\"color: #0087ff; text-decoration-color: #0087ff\">Bidirectional</span>)     │                   │            │                   │\n",
              "├─────────────────────┼───────────────────┼────────────┼───────────────────┤\n",
              "│ bl2_leftLeg_trunk   │ (<span style=\"color: #00d7ff; text-decoration-color: #00d7ff\">None</span>, <span style=\"color: #00af00; text-decoration-color: #00af00\">30</span>, <span style=\"color: #00af00; text-decoration-color: #00af00\">192</span>)   │     <span style=\"color: #00af00; text-decoration-color: #00af00\">67,776</span> │ fl1_lafetLeg_tru… │\n",
              "│ (<span style=\"color: #0087ff; text-decoration-color: #0087ff\">Bidirectional</span>)     │                   │            │                   │\n",
              "├─────────────────────┼───────────────────┼────────────┼───────────────────┤\n",
              "│ bl2_rightLeg_trunk  │ (<span style=\"color: #00d7ff; text-decoration-color: #00d7ff\">None</span>, <span style=\"color: #00af00; text-decoration-color: #00af00\">30</span>, <span style=\"color: #00af00; text-decoration-color: #00af00\">192</span>)   │     <span style=\"color: #00af00; text-decoration-color: #00af00\">67,776</span> │ fl1_rightLeg_tru… │\n",
              "│ (<span style=\"color: #0087ff; text-decoration-color: #0087ff\">Bidirectional</span>)     │                   │            │                   │\n",
              "├─────────────────────┼───────────────────┼────────────┼───────────────────┤\n",
              "│ fl2_upperBody       │ (<span style=\"color: #00d7ff; text-decoration-color: #00d7ff\">None</span>, <span style=\"color: #00af00; text-decoration-color: #00af00\">30</span>, <span style=\"color: #00af00; text-decoration-color: #00af00\">384</span>)   │          <span style=\"color: #00af00; text-decoration-color: #00af00\">0</span> │ bl2_leftArm_trun… │\n",
              "│ (<span style=\"color: #0087ff; text-decoration-color: #0087ff\">Concatenate</span>)       │                   │            │ bl2_rightArm_tru… │\n",
              "├─────────────────────┼───────────────────┼────────────┼───────────────────┤\n",
              "│ fl2_lowerBody       │ (<span style=\"color: #00d7ff; text-decoration-color: #00d7ff\">None</span>, <span style=\"color: #00af00; text-decoration-color: #00af00\">30</span>, <span style=\"color: #00af00; text-decoration-color: #00af00\">384</span>)   │          <span style=\"color: #00af00; text-decoration-color: #00af00\">0</span> │ bl2_leftLeg_trun… │\n",
              "│ (<span style=\"color: #0087ff; text-decoration-color: #0087ff\">Concatenate</span>)       │                   │            │ bl2_rightLeg_tru… │\n",
              "├─────────────────────┼───────────────────┼────────────┼───────────────────┤\n",
              "│ bl3_upperBody       │ (<span style=\"color: #00d7ff; text-decoration-color: #00d7ff\">None</span>, <span style=\"color: #00af00; text-decoration-color: #00af00\">30</span>, <span style=\"color: #00af00; text-decoration-color: #00af00\">256</span>)   │    <span style=\"color: #00af00; text-decoration-color: #00af00\">131,328</span> │ fl2_upperBody[<span style=\"color: #00af00; text-decoration-color: #00af00\">0</span>]… │\n",
              "│ (<span style=\"color: #0087ff; text-decoration-color: #0087ff\">Bidirectional</span>)     │                   │            │                   │\n",
              "├─────────────────────┼───────────────────┼────────────┼───────────────────┤\n",
              "│ bl3_lowerBody       │ (<span style=\"color: #00d7ff; text-decoration-color: #00d7ff\">None</span>, <span style=\"color: #00af00; text-decoration-color: #00af00\">30</span>, <span style=\"color: #00af00; text-decoration-color: #00af00\">256</span>)   │    <span style=\"color: #00af00; text-decoration-color: #00af00\">131,328</span> │ fl2_lowerBody[<span style=\"color: #00af00; text-decoration-color: #00af00\">0</span>]… │\n",
              "│ (<span style=\"color: #0087ff; text-decoration-color: #0087ff\">Bidirectional</span>)     │                   │            │                   │\n",
              "├─────────────────────┼───────────────────┼────────────┼───────────────────┤\n",
              "│ fl3_wholeBody       │ (<span style=\"color: #00d7ff; text-decoration-color: #00d7ff\">None</span>, <span style=\"color: #00af00; text-decoration-color: #00af00\">30</span>, <span style=\"color: #00af00; text-decoration-color: #00af00\">512</span>)   │          <span style=\"color: #00af00; text-decoration-color: #00af00\">0</span> │ bl3_upperBody[<span style=\"color: #00af00; text-decoration-color: #00af00\">0</span>]… │\n",
              "│ (<span style=\"color: #0087ff; text-decoration-color: #0087ff\">Concatenate</span>)       │                   │            │ bl3_lowerBody[<span style=\"color: #00af00; text-decoration-color: #00af00\">0</span>]… │\n",
              "├─────────────────────┼───────────────────┼────────────┼───────────────────┤\n",
              "│ bl4 (<span style=\"color: #0087ff; text-decoration-color: #0087ff\">Bidirectional</span>) │ (<span style=\"color: #00d7ff; text-decoration-color: #00d7ff\">None</span>, <span style=\"color: #00af00; text-decoration-color: #00af00\">512</span>)       │  <span style=\"color: #00af00; text-decoration-color: #00af00\">1,574,912</span> │ fl3_wholeBody[<span style=\"color: #00af00; text-decoration-color: #00af00\">0</span>]… │\n",
              "├─────────────────────┼───────────────────┼────────────┼───────────────────┤\n",
              "│ fc (<span style=\"color: #0087ff; text-decoration-color: #0087ff\">Dense</span>)          │ (<span style=\"color: #00d7ff; text-decoration-color: #00d7ff\">None</span>, <span style=\"color: #00af00; text-decoration-color: #00af00\">256</span>)       │    <span style=\"color: #00af00; text-decoration-color: #00af00\">131,328</span> │ bl4[<span style=\"color: #00af00; text-decoration-color: #00af00\">0</span>][<span style=\"color: #00af00; text-decoration-color: #00af00\">0</span>]         │\n",
              "├─────────────────────┼───────────────────┼────────────┼───────────────────┤\n",
              "│ dropout_2 (<span style=\"color: #0087ff; text-decoration-color: #0087ff\">Dropout</span>) │ (<span style=\"color: #00d7ff; text-decoration-color: #00d7ff\">None</span>, <span style=\"color: #00af00; text-decoration-color: #00af00\">256</span>)       │          <span style=\"color: #00af00; text-decoration-color: #00af00\">0</span> │ fc[<span style=\"color: #00af00; text-decoration-color: #00af00\">0</span>][<span style=\"color: #00af00; text-decoration-color: #00af00\">0</span>]          │\n",
              "├─────────────────────┼───────────────────┼────────────┼───────────────────┤\n",
              "│ sl (<span style=\"color: #0087ff; text-decoration-color: #0087ff\">Dense</span>)          │ (<span style=\"color: #00d7ff; text-decoration-color: #00d7ff\">None</span>, <span style=\"color: #00af00; text-decoration-color: #00af00\">3</span>)         │        <span style=\"color: #00af00; text-decoration-color: #00af00\">771</span> │ dropout_2[<span style=\"color: #00af00; text-decoration-color: #00af00\">0</span>][<span style=\"color: #00af00; text-decoration-color: #00af00\">0</span>]   │\n",
              "└─────────────────────┴───────────────────┴────────────┴───────────────────┘\n",
              "</pre>\n"
            ]
          },
          "metadata": {}
        },
        {
          "output_type": "display_data",
          "data": {
            "text/plain": [
              "\u001b[1m Total params: \u001b[0m\u001b[38;5;34m2,286,467\u001b[0m (8.72 MB)\n"
            ],
            "text/html": [
              "<pre style=\"white-space:pre;overflow-x:auto;line-height:normal;font-family:Menlo,'DejaVu Sans Mono',consolas,'Courier New',monospace\"><span style=\"font-weight: bold\"> Total params: </span><span style=\"color: #00af00; text-decoration-color: #00af00\">2,286,467</span> (8.72 MB)\n",
              "</pre>\n"
            ]
          },
          "metadata": {}
        },
        {
          "output_type": "display_data",
          "data": {
            "text/plain": [
              "\u001b[1m Trainable params: \u001b[0m\u001b[38;5;34m2,286,467\u001b[0m (8.72 MB)\n"
            ],
            "text/html": [
              "<pre style=\"white-space:pre;overflow-x:auto;line-height:normal;font-family:Menlo,'DejaVu Sans Mono',consolas,'Courier New',monospace\"><span style=\"font-weight: bold\"> Trainable params: </span><span style=\"color: #00af00; text-decoration-color: #00af00\">2,286,467</span> (8.72 MB)\n",
              "</pre>\n"
            ]
          },
          "metadata": {}
        },
        {
          "output_type": "display_data",
          "data": {
            "text/plain": [
              "\u001b[1m Non-trainable params: \u001b[0m\u001b[38;5;34m0\u001b[0m (0.00 B)\n"
            ],
            "text/html": [
              "<pre style=\"white-space:pre;overflow-x:auto;line-height:normal;font-family:Menlo,'DejaVu Sans Mono',consolas,'Courier New',monospace\"><span style=\"font-weight: bold\"> Non-trainable params: </span><span style=\"color: #00af00; text-decoration-color: #00af00\">0</span> (0.00 B)\n",
              "</pre>\n"
            ]
          },
          "metadata": {}
        }
      ]
    }
  ],
  "metadata": {
    "language_info": {
      "name": "python"
    },
    "colab": {
      "provenance": []
    },
    "kernelspec": {
      "name": "python3",
      "display_name": "Python 3"
    }
  },
  "nbformat": 4,
  "nbformat_minor": 5
}